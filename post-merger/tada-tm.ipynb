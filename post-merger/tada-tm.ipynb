{
 "cells": [
  {
   "cell_type": "markdown",
   "metadata": {},
   "source": [
    "### Reviews about Tada\n",
    "\n",
    "In this notebook, we are going to perform topic modelling based on sentiments from various review sites. "
   ]
  },
  {
   "cell_type": "code",
   "execution_count": 20,
   "metadata": {},
   "outputs": [
    {
     "name": "stdout",
     "output_type": "stream",
     "text": [
      "[nltk_data] Downloading package stopwords to D:\\nltk_data...\n",
      "[nltk_data]   Package stopwords is already up-to-date!\n"
     ]
    }
   ],
   "source": [
    "# Base\n",
    "import os, re, string\n",
    "import pandas as pd\n",
    "import numpy as np\n",
    "import matplotlib.pyplot as plt\n",
    "# from wordcloud import WordCloud\n",
    "\n",
    "# NLTK\n",
    "import nltk\n",
    "nltk.download('stopwords')\n",
    "from nltk.tokenize import sent_tokenize, word_tokenize, RegexpTokenizer\n",
    "from nltk.corpus import stopwords\n",
    "from nltk.stem import PorterStemmer\n",
    "from nltk.metrics.distance import edit_distance\n",
    "from spellchecker import SpellChecker\n",
    "from nltk.corpus import stopwords\n",
    "from nltk.sentiment.vader import SentimentIntensityAnalyzer\n",
    "from nltk.stem.wordnet import WordNetLemmatizer\n",
    "\n",
    "# Topic Modelling\n",
    "import pyLDAvis\n",
    "import pyLDAvis.gensim\n",
    "import gensim\n",
    "from gensim import corpora\n",
    "pyLDAvis.enable_notebook()"
   ]
  },
  {
   "cell_type": "markdown",
   "metadata": {},
   "source": [
    "### Data Preparation\n",
    "\n",
    "We will first get the relevant files we need and thereafter extract them out into a list of reviews."
   ]
  },
  {
   "cell_type": "code",
   "execution_count": 21,
   "metadata": {},
   "outputs": [
    {
     "name": "stdout",
     "output_type": "stream",
     "text": [
      ".\\gplay_tada_en.csv\n",
      ".\\reddit_tada_singapore.csv\n",
      ".\\reddit_tada_singapore_extracted.csv\n",
      ".\\twitter_tada_mvl.csv\n",
      "['Never once found a driver after several uses. What is going on???', '30 mins later still cannot find driver', 'Driver made me wait for 5min after accepting and canceled without warning. Tried to search for 15min and couldnt find any other driver. If this is the quality of drivers in the app, you can just forget about it.', \"Change your login interface. I can't login because there is only a sign up option. And I can't sign up again cuz my mobile number is already used.\", 'Fair is always super high as compare to Ryde and Grab. Planning to uninstall it soon.', 'Gps location inaccurate show far away for driver pickup', \"I can't get my gps to get registered in and I can't lock the place where I want to go to. it's quite confusing please edit the appð\\x9f\\x91\\x8d and I have a feeling that this TADA will give a tough fight to grab so get the app edited as soon as possible please\", 'Awesome ride hailing app. So much better than grab.', \"TADA drivers has the tendencies to not turn up as they have pick up another customer using another app, without cancelling.and they expect rider to cancel though its the drivers' fault. Avoid at all cost.\", 'I cant even sign up n the apps say my no is already in use', 'Superb app.more taxis and faster.cheap also when compared to grab', 'Never receive code', 'Lack of driver especially morning in my area', \"After installing the app, I can't register with my email, it just stop at the page asking to key in email address.\", 'Lousy app. Cannot even allow to book a ride', 'Driver just simply cancelled my booking without notice nor does the app shows. will not recommend if this happens again', 'So far off peak its relatively cheaper than grab.. during busy periods its almost same as grab but never have crazy surcharges. Waiting time is a bit longer due to fewer drivers. The design wise reminds me of uber. Shall wait awhile more when there more drivers to compare to grab and ryde.', 'Uninstalling...', 'Great app please become the next big company!', 'Lousy service. No drivers at all. Get your operations together man.', 'Good job guys, keep it up!', 'Booked a ride and driver cancel the booking after he blamed the GPS for bringing him to wrong place. I tot Grab was bad but this is even worse. Totally waste of time waiting for 15 mins for a booking. The driver even askes me to walk to the other place tat he was to meet him. RIDICULOUS!!!!!!!!!', 'Uninstall the app is the best. ð\\x9f\\x98\\xa0', \"I usually turn on Grab, Ryde and Tada to compare the prices, and it's alright. Waiting time is a tad long due to fewer drivers, but they're a nice bunch so far.\", \"Still doubtful of its services . Have tried countless time in booking a ride but up to date , I've still not yet gotten any success . Even after waiting 15mins or so . Do something about it lol\", 'No driver taking bookings despite showing multiple active nearby', \"1st time use im happy but then i got logout and couldn't login because there isnt any login function only singup option. Damnit\", '#1# First thing to do after install is to compare with Grab. This app is more expensive. #2# After developer replied, i monitor the price and compare to grab. It it still more expensive.', 'Seriously? The price is definitely much more expensive than Grab, uninstalling', 'Have used this app twice and it works as listed! The prices are slightly cheaper compared to Grab.', 'Thank you for giving the consumer an alternative means other than Grab. Your price is definitely more reasonable. However it is very hard to find a driver. Could u pls increase ur fleet of drivers pls? Otherwise it is useless to install this app', \"Most of the serious bugs seem to have been fixed, some UX issues that can be improved upon though. Also, considering they don't take a 20% cut from the drivers you'd think they'd be able to undercut Grab by 10% and still have drivers earn 10% more, but Grab has been cheaper more often than not.\", 'Fares are significantly higher than Grab (which offers reward system) & Ryde (which offers promo codes). Not quite sure how Tada is going to remain attractive to riders.', 'Managed to take a ride once. But after that, can never get a driver or car. Majority of the drivers still stick to the popular apps', \"I must have tried about 12 times to book a ride, but haven't ever succeeded. Unless your drivers get a little less fussy about what trips they'll accept, your service will be continue to be useless. A complete waste of time.\", 'Unable to sign up as cannot input my mobile number. I am on Android ver 8. Please fix', 'keep up ur good performance..', 'Great app', 'Tried many times yet not a single driver accepted the booking even though there were a few cars around my starting point', 'this app is useless. tried booking but after 10mins, no driver accept the ride. yes the price is cheaper than grab but it is pointless when the drivers dont even want to accept it. i will not use this app again.', 'after keying in location, there is no pop up to show the pricing at all.', 'No one accepts your booking.. Price shows less then Grab but you will not get any driver to accept your booking. So this app is of no use.', 'Lousy.. No one take my booking. Deleting this', 'It needs to update the maps of new estate addresses.', \"Can't seem to sign up. Won't allow me to link it to my FB account.\", 'Price is always higher than grab. Even during off peak period its always higher than grab. Idk when i got the chance to try this apps. Even from bedok to tamp quote me $16', \"I still can't add any of my cards into the app\", 'Try this apps last week.. unfortunately few times still cant get any driver! Not sure if this apps is working or can be used or not..', \"It's working now! Have not used it yet!\", 'Pls create something like hitch or carpool for part time..Win win solution..And you will get more drivers', \"The app doesn't show that the driver is dropping someone first before picking me up. Actual arrival time is double that of estimated arrival time\", 'Need to improve more, it will be great if the app can change destination while on trip, the price can also be recalculate accordingly, it will help if I suddenly change my mind.', \"It's a relatively new service, and I applaud it for being a competitor to Grab. However, an issue with the service is that the fares are usually higher than Grab. This is especially during off-peak periods when Grab has surge pricing. Other than that, I find the service a great alternative to Grab.\", 'App looks good', 'Amazing app! Saved me $31 by using this instead of Grab when Grab prices were surging at $45 at 3am on a public holiday :)', \"Is there even drivers? I tried at least 5 occasions and couldn't even get a single ride. I will give it one last shot for I hope some day someone can finally take the monopoly away from the vampire grab\", 'App keep crushing', 'Seems fine. However...the purpose of this app is to be a rival of Grab, yet the prices are the same. I mean...yeah, its a great app, great layout but (money is the point rite?) this app has not reached its fullest potential. Give it more time to develop :)', \"I have updated to the latest version it still the same can't complain on my rides. Also I see drivers number and drivers do see my number what kind of privacy do you provide for riders?\", 'Very good layout. Pricing very good and affordable for customers like us which sometimes need to book for family. Will let more friends to know about this best hailing app.', \"Update review: downloaded it once again for another benefit of doubt. Throwing in another benefit of doubt given it's relatively new in the market, hence drivers are not so easy to find. Looking forward to seeing more people using this ride hailing app. Thanks for fixing the current issues.\", 'It takes years or century to get even a single ride. Pls wake up your idea whether you want to survive in Singapore. I thought you are the best to topple Grab.', \"First couple of rides were fine but then the next three, I just waited and waited and waited until it timed out. If drivers don't accept the requests then I'll never use this service again as it's an unreliable platform.\", 'No issues with verification code or registration But prices are still much higher than Grab, was a pointless installation', 'May I know why I have to indicate the current location to pick me? The GPS should be able to indicate the location.', \"Would love to try but it doesn't even send the verification code\", 'During registration process, all details keyed in. But verification code was not send to me. I went to the website and to seek help via Tada \"Contact Us\", unfortunately unable to submit my feedback.', 'Effective and costsaving.', 'Not much drivers.... Always cancel should ban them more Them 10 time per week', 'Used it last weekend from town to tampines. Fares were slightly cheaper than grab. And driver took only 4mins to arrive. Looking forward to use this frequently', \"Horrible app. Lags badly and starts ride prematurely. Estimation of time for driver to reach is highly erroneous. Lagged again on both driver and passenger's phones when we reached the destination, driver could not end trip so it took a while to confirm payment went through. Deleting app now.\", 'Awesome AAA.. getting better and better.. God bless..', \"It's wayyyy cheaper than the other similar apps out there based on my experience. Give it a try.\", 'i tried like 100 times and have never receive verification sms...... how to use your app lile that ah??', 'Cool and convinient app.', 'It works for me, though I believe there are rooms for improvement on GUI updates. Definitely need to support anything that Opposes Grab!', \"It's really nice and easy to use! Love the colours and simple option!\", \"The app is easy to use. The price for the same trip similar peak hour peroid ($11) is the lowest compare with Grab ($26) and RydeX ($14.50). Problem is finding a driver! Should give it a try first and if you can't get a driver, go for RydeX. Non peak peroid is comparable with the rest.\", 'so far so good', 'The app keep stopping after i open the app', 'Does this app exist? Search 4 times times and no drivers. Very time consuming........', 'i tried signing up but could not get pass the sign in page that requires hp number. could not key in hp at all. please help. i value tada as a competitor to grab', 'We need taxi service too!', 'We also need taxi service.', 'Tried yesterday morning, price is low but no driver. Tried again today, price is slightly lower than Grab during peak hour. Quick match of nearby driver. Will definitely take TADA if price is good. Can tell thst driver is happy of the zero commission scheme.', \"Can't activate - no SMS received\", 'My opinion; this is still an young app. Wr have to give riders time to adapt to TADA...Drivers side its will be a big movement away from Grab.', 'Didnt have a good first impression of this at all, wanted to sign up keyed in email addr, and phone no and was asked to wait for verification code but i received nothing....', 'Waited 10mins no drivers...', 'Need improve the app reliability, and more driver... Still lag driver....', 'keep crushing...', 'Crashes from the 1st time and everytimr after. Completely unusable.', 'Cannot sign up ride hailing app why', 'App keep crashing. How to use??? Download already fare all so high and no promotion. Back to RYDE liao', 'Filled all the details as a new customer and clicking sign up, but nothing freaking happens, just stuck at sign up page. I can understand if its due to any fields not filled properly, but then bloody freaking show the error. The app sucks', 'As a potential customer, the ONLY concern I have is whether the prices undercut Grab prices. However TADA is actually MORE expensive than Grab. Not going to use until prices drop.', 'Just downloaded. Keeps crashing.', 'Lots of bugs. Map should fix to True North. Wrong GPS coordinates. Addresses not found. Crashes caused by not requesting mandatory runtime permission.', 'My first time giving a review. One of the worst service ever. No feedback channel in the app and the driver simply goes MIA even though i called him thrice to confirm the ride.', 'It crashes when typing in address. Plus charged usd 1 even though i could not find a match.', 'Try almost 30 mins and i cant find any single driver!', 'cheaper fares than grab', 'Keep up the good work! Glad to know you officially launch today. Thanks for giving us more options.', 'Lack of drivers during peak hours brings you back to Grab.', 'App kept hang and waited more than 10min no car accept too', 'no verification code was sent despite numerous attempts. pissed off.', \"can't even sign up... never get verification code. My mobile number is correct...\", 'Tried 4 time to get verification code, but none sent. Phone number is correct.', \"Easy to use app. But if fares are slightly lower would be good since there is no commission taken from drivers for the start. I'm only using RYDE and if u guys can give a lower fare, I'll explore TADA as a second option.\", 'Not able to signup with email and mobile.', 'Sharing or Pooling option is missing. Certainly, not affordable rides. Way to go to compete with Grab!', 'Got issues right now but Im sure it will be improved and fixed. Kick out grab :)', \"Doesn't work. Can't book ride.\", 'The app hanged from the start... How to even use it??', 'Pricing is mad.', 'Every time I select an address, the app just kicks me out. Please fix the issue.', 'It didnt locate my address correctly. Example, if i type 218D, it only locate 218. Please fix/update your map.', 'Turn on location services for it not to crash', 'After the update it works perfectly!', 'not smart', 'The verification code takes too long to be sent to the mobile number', 'simple and clean interface. pity that app was launched with multiple problems.', 'App crashes upon every tab of a button.', \"Can't even open the app at alll.... reinstall app also same problem...!!hope u can fix it ...me using huawei mate 9\", \"Doesn't crash anymore at startup. An update fixed it. Thanks for patching the app so quickly! Will try it soon.\", \"Can't even open the app. It just crash while loading the app.\", 'Login issue fixed, will try out cab hailing soon', 'The pick-up pin is so cute! ATB!', 'Eh why keep crashing ah?! How to book like that xia!!! ð\\x9f¤¦ð\\x9f\\x8f¿â\\x80\\x8dâ\\x99\\x82ï¸\\x8f', 'Please fix Facebook login', 'Interface is user friendly. Price looks ok too.', 'The App keep closing after key in destination. Uninstall and reinstall same problem!!!', 'Crashes.', 'After install, app keep closing and not working', 'Now it keep crashing even before the location can be find', 'Frequent crashes. Pls improve on update. Thx.', 'Cannot add card', \"App crashes upon start up. UI for registration aren't properly centered to screen. STILL CRASHES\", 'Just downloaded it, was looking forward to using it but app crashed the moment I launched it. Please fix.', \"It's just force close the app. Tried several times still the same. It is fine for apple phone. Guess the app is not stable yet for Android.\", 'I\\'ve just installed it but when i want to try and test it, suddenly it went \"poof\".... Hey, we really want to support you but comes with this type of ride hailing apps, with major bugs, am not sure whether can it be trust or not.', 'Keep crashing', 'Doesn\\'t work at all. Entered destination and it says \"failed to find product\". Why isn\\'t there any QC performed before launching the service?', 'Entered my destination. Showed me an error \"Failed to find product\"', 'Unable to find location', 'Cannot find any place', \"Can't find destination location....\", 'App crashes after creating account. Using s8+', \"You publish an article in CNA. But the app can't even be opened at all.\", 'App keeps crashing on launch', 'Bad app... Cannot register', 'Good initiative', 'Pls fix the app...auto close before we can rate the app properly', 'Application keep crashing.', 'Unable to open the app']\n"
     ]
    }
   ],
   "source": [
    "# Merge into \n",
    "\n",
    "path='.'\n",
    "\n",
    "filename_sentiment_list=[]\n",
    "\n",
    "for filename in os.listdir(path):\n",
    "    if filename.endswith(\".csv\"):\n",
    "        # Check what are the files in the folder\n",
    "        print(os.path.join(path, filename))\n",
    "        \n",
    "        #Read the files and put to df\n",
    "        df = pd.read_csv(filename,encoding = \"ISO-8859-1\")\n",
    "        \n",
    "        #Add it into a list\n",
    "        try:\n",
    "            filename_sentiment_list.extend(df['comment'].tolist())\n",
    "            filename_sentiment_list.extend(df['tweet'].tolist())\n",
    "            filename_sentiment_list.extend(df['title'].tolist())\n",
    "        except:\n",
    "            pass\n",
    "\n",
    "print(filename_sentiment_list)"
   ]
  },
  {
   "cell_type": "code",
   "execution_count": 22,
   "metadata": {},
   "outputs": [
    {
     "data": {
      "text/plain": [
       "['Gps location inaccurate show far away for driver pickup',\n",
       " \"I can't get my gps to get registered in and I can't lock the place where I want to go to. it's quite confusing please edit the appð\\x9f\\x91\\x8d and I have a feeling that this TADA will give a tough fight to grab so get the app edited as soon as possible please\"]"
      ]
     },
     "execution_count": 22,
     "metadata": {},
     "output_type": "execute_result"
    }
   ],
   "source": [
    "filename_sentiment_list[5:7]"
   ]
  },
  {
   "cell_type": "markdown",
   "metadata": {},
   "source": [
    "### Cleaning\n",
    "\n",
    "We will also perform cleaning"
   ]
  },
  {
   "cell_type": "code",
   "execution_count": 23,
   "metadata": {},
   "outputs": [],
   "source": [
    "def clean_list_tokenise(reviews_list):\n",
    "    # Tokenise the words\n",
    "    tokenizer = RegexpTokenizer(r'\\w+')\n",
    "    return [tokenizer.tokenize(sentence) for sentence in reviews_list]\n",
    "\n",
    "def clean_list_lemma(reviews_list):\n",
    "    # Lemmatization\n",
    "    lemma = WordNetLemmatizer()\n",
    "    return [[lemma.lemmatize(word) for word in sentence] for sentence in reviews_list]\n",
    "\n",
    "def clean_list_stopwords(reviews_list, stop_other=[]):\n",
    "    def stopword_condition(word):\n",
    "        word = word.lower()\n",
    "        \n",
    "        return word not in stopwords.words('english') \\\n",
    "            and word not in stop_other \\\n",
    "            and word[:5] != 'http' \\\n",
    "            and word[:5] != 'https' \\\n",
    "            and word[:2] != 'RT' \\\n",
    "            and word[0] != '@'\n",
    "    \n",
    "    return [[w for w in s if stopword_condition(w)] for s in reviews_list]"
   ]
  },
  {
   "cell_type": "code",
   "execution_count": 24,
   "metadata": {},
   "outputs": [
    {
     "data": {
      "text/plain": [
       "155"
      ]
     },
     "execution_count": 24,
     "metadata": {},
     "output_type": "execute_result"
    }
   ],
   "source": [
    "sentiment_filtered = clean_list_stopwords(clean_list_tokenise(filename_sentiment_list))\n",
    "len(sentiment_filtered)"
   ]
  },
  {
   "cell_type": "code",
   "execution_count": 25,
   "metadata": {},
   "outputs": [
    {
     "data": {
      "text/plain": [
       "['Never found driver several uses going',\n",
       " '30 mins later still cannot find driver',\n",
       " 'Driver made wait 5min accepting canceled without warning Tried search 15min couldnt find driver quality drivers app forget',\n",
       " 'Change login interface login sign option sign cuz mobile number already used',\n",
       " 'Fair always super high compare Ryde Grab Planning uninstall soon']"
      ]
     },
     "execution_count": 25,
     "metadata": {},
     "output_type": "execute_result"
    }
   ],
   "source": [
    "sentiment_filtered_sentences = [' '.join(s) for s in sentiment_filtered]\n",
    "sentiment_filtered_sentences[:5]"
   ]
  },
  {
   "cell_type": "markdown",
   "metadata": {},
   "source": [
    "### Segregating by Sentiment\n",
    "\n",
    "We will segregate the reviews by sentiment. This is achieved by the `analyse_sentiment_vader` function, which uses vader to help us analyse the degree to which the particular review or comment is positive, negative or neutral. It also computes a compound score ranging from -1 to 1 which takes into account all the scores. More reading for the sentiment analysis are available at:\n",
    "\n",
    "- https://opensourceforu.com/2016/12/analysing-sentiments-nltk/\n",
    "- http://t-redactyl.io/blog/2017/04/using-vader-to-handle-sentiment-analysis-with-social-media-text.html"
   ]
  },
  {
   "cell_type": "code",
   "execution_count": 26,
   "metadata": {},
   "outputs": [],
   "source": [
    "def analyse_sentiment_vader(df, col_name):\n",
    "    sid = SentimentIntensityAnalyzer()\n",
    "    vader = lambda text: sid.polarity_scores(text)\n",
    "    \n",
    "    df['vader'] = df[col_name].apply(vader)\n",
    "    df = pd.merge(df, df['vader'].apply(pd.Series), left_index=True, right_index=True)\n",
    "    return df.drop(['vader'], axis=1)"
   ]
  },
  {
   "cell_type": "code",
   "execution_count": 27,
   "metadata": {},
   "outputs": [
    {
     "data": {
      "text/html": [
       "<div>\n",
       "<style scoped>\n",
       "    .dataframe tbody tr th:only-of-type {\n",
       "        vertical-align: middle;\n",
       "    }\n",
       "\n",
       "    .dataframe tbody tr th {\n",
       "        vertical-align: top;\n",
       "    }\n",
       "\n",
       "    .dataframe thead th {\n",
       "        text-align: right;\n",
       "    }\n",
       "</style>\n",
       "<table border=\"1\" class=\"dataframe\">\n",
       "  <thead>\n",
       "    <tr style=\"text-align: right;\">\n",
       "      <th></th>\n",
       "      <th>comment</th>\n",
       "      <th>neg</th>\n",
       "      <th>neu</th>\n",
       "      <th>pos</th>\n",
       "      <th>compound</th>\n",
       "    </tr>\n",
       "  </thead>\n",
       "  <tbody>\n",
       "    <tr>\n",
       "      <th>0</th>\n",
       "      <td>Never found driver several uses going</td>\n",
       "      <td>0.000</td>\n",
       "      <td>1.000</td>\n",
       "      <td>0.000</td>\n",
       "      <td>0.0000</td>\n",
       "    </tr>\n",
       "    <tr>\n",
       "      <th>1</th>\n",
       "      <td>30 mins later still cannot find driver</td>\n",
       "      <td>0.000</td>\n",
       "      <td>1.000</td>\n",
       "      <td>0.000</td>\n",
       "      <td>0.0000</td>\n",
       "    </tr>\n",
       "    <tr>\n",
       "      <th>2</th>\n",
       "      <td>Driver made wait 5min accepting canceled witho...</td>\n",
       "      <td>0.088</td>\n",
       "      <td>0.697</td>\n",
       "      <td>0.215</td>\n",
       "      <td>0.4090</td>\n",
       "    </tr>\n",
       "    <tr>\n",
       "      <th>3</th>\n",
       "      <td>Change login interface login sign option sign ...</td>\n",
       "      <td>0.000</td>\n",
       "      <td>0.894</td>\n",
       "      <td>0.106</td>\n",
       "      <td>0.0772</td>\n",
       "    </tr>\n",
       "    <tr>\n",
       "      <th>4</th>\n",
       "      <td>Fair always super high compare Ryde Grab Plann...</td>\n",
       "      <td>0.000</td>\n",
       "      <td>0.563</td>\n",
       "      <td>0.437</td>\n",
       "      <td>0.7351</td>\n",
       "    </tr>\n",
       "    <tr>\n",
       "      <th>5</th>\n",
       "      <td>Gps location inaccurate show far away driver p...</td>\n",
       "      <td>0.000</td>\n",
       "      <td>1.000</td>\n",
       "      <td>0.000</td>\n",
       "      <td>0.0000</td>\n",
       "    </tr>\n",
       "    <tr>\n",
       "      <th>6</th>\n",
       "      <td>get gps get registered lock place want go quit...</td>\n",
       "      <td>0.195</td>\n",
       "      <td>0.558</td>\n",
       "      <td>0.247</td>\n",
       "      <td>0.1689</td>\n",
       "    </tr>\n",
       "    <tr>\n",
       "      <th>7</th>\n",
       "      <td>Awesome ride hailing app much better grab</td>\n",
       "      <td>0.000</td>\n",
       "      <td>0.417</td>\n",
       "      <td>0.583</td>\n",
       "      <td>0.7906</td>\n",
       "    </tr>\n",
       "    <tr>\n",
       "      <th>8</th>\n",
       "      <td>TADA drivers tendencies turn pick another cust...</td>\n",
       "      <td>0.282</td>\n",
       "      <td>0.653</td>\n",
       "      <td>0.065</td>\n",
       "      <td>-0.6495</td>\n",
       "    </tr>\n",
       "    <tr>\n",
       "      <th>9</th>\n",
       "      <td>cant even sign n apps say already use</td>\n",
       "      <td>0.000</td>\n",
       "      <td>1.000</td>\n",
       "      <td>0.000</td>\n",
       "      <td>0.0000</td>\n",
       "    </tr>\n",
       "  </tbody>\n",
       "</table>\n",
       "</div>"
      ],
      "text/plain": [
       "                                             comment    neg    neu    pos  \\\n",
       "0              Never found driver several uses going  0.000  1.000  0.000   \n",
       "1             30 mins later still cannot find driver  0.000  1.000  0.000   \n",
       "2  Driver made wait 5min accepting canceled witho...  0.088  0.697  0.215   \n",
       "3  Change login interface login sign option sign ...  0.000  0.894  0.106   \n",
       "4  Fair always super high compare Ryde Grab Plann...  0.000  0.563  0.437   \n",
       "5  Gps location inaccurate show far away driver p...  0.000  1.000  0.000   \n",
       "6  get gps get registered lock place want go quit...  0.195  0.558  0.247   \n",
       "7          Awesome ride hailing app much better grab  0.000  0.417  0.583   \n",
       "8  TADA drivers tendencies turn pick another cust...  0.282  0.653  0.065   \n",
       "9              cant even sign n apps say already use  0.000  1.000  0.000   \n",
       "\n",
       "   compound  \n",
       "0    0.0000  \n",
       "1    0.0000  \n",
       "2    0.4090  \n",
       "3    0.0772  \n",
       "4    0.7351  \n",
       "5    0.0000  \n",
       "6    0.1689  \n",
       "7    0.7906  \n",
       "8   -0.6495  \n",
       "9    0.0000  "
      ]
     },
     "execution_count": 27,
     "metadata": {},
     "output_type": "execute_result"
    }
   ],
   "source": [
    "df_sentiment_filtered = pd.DataFrame(sentiment_filtered_sentences, columns=['comment'])\n",
    "df_sentiment_filtered = analyse_sentiment_vader(df_sentiment_filtered, 'comment')\n",
    "df_sentiment_filtered.head(10)"
   ]
  },
  {
   "cell_type": "code",
   "execution_count": 28,
   "metadata": {},
   "outputs": [
    {
     "data": {
      "text/html": [
       "<div>\n",
       "<style scoped>\n",
       "    .dataframe tbody tr th:only-of-type {\n",
       "        vertical-align: middle;\n",
       "    }\n",
       "\n",
       "    .dataframe tbody tr th {\n",
       "        vertical-align: top;\n",
       "    }\n",
       "\n",
       "    .dataframe thead th {\n",
       "        text-align: right;\n",
       "    }\n",
       "</style>\n",
       "<table border=\"1\" class=\"dataframe\">\n",
       "  <thead>\n",
       "    <tr style=\"text-align: right;\">\n",
       "      <th></th>\n",
       "      <th>comment</th>\n",
       "      <th>neg</th>\n",
       "      <th>neu</th>\n",
       "      <th>pos</th>\n",
       "      <th>compound</th>\n",
       "    </tr>\n",
       "  </thead>\n",
       "  <tbody>\n",
       "    <tr>\n",
       "      <th>145</th>\n",
       "      <td>Cannot find place</td>\n",
       "      <td>0.000</td>\n",
       "      <td>1.000</td>\n",
       "      <td>0.000</td>\n",
       "      <td>0.0000</td>\n",
       "    </tr>\n",
       "    <tr>\n",
       "      <th>146</th>\n",
       "      <td>find destination location</td>\n",
       "      <td>0.000</td>\n",
       "      <td>1.000</td>\n",
       "      <td>0.000</td>\n",
       "      <td>0.0000</td>\n",
       "    </tr>\n",
       "    <tr>\n",
       "      <th>147</th>\n",
       "      <td>App crashes creating account Using s8</td>\n",
       "      <td>0.000</td>\n",
       "      <td>0.694</td>\n",
       "      <td>0.306</td>\n",
       "      <td>0.2960</td>\n",
       "    </tr>\n",
       "    <tr>\n",
       "      <th>148</th>\n",
       "      <td>publish article CNA app even opened</td>\n",
       "      <td>0.000</td>\n",
       "      <td>1.000</td>\n",
       "      <td>0.000</td>\n",
       "      <td>0.0000</td>\n",
       "    </tr>\n",
       "    <tr>\n",
       "      <th>149</th>\n",
       "      <td>App keeps crashing launch</td>\n",
       "      <td>0.000</td>\n",
       "      <td>1.000</td>\n",
       "      <td>0.000</td>\n",
       "      <td>0.0000</td>\n",
       "    </tr>\n",
       "    <tr>\n",
       "      <th>150</th>\n",
       "      <td>Bad app Cannot register</td>\n",
       "      <td>0.538</td>\n",
       "      <td>0.462</td>\n",
       "      <td>0.000</td>\n",
       "      <td>-0.5423</td>\n",
       "    </tr>\n",
       "    <tr>\n",
       "      <th>151</th>\n",
       "      <td>Good initiative</td>\n",
       "      <td>0.000</td>\n",
       "      <td>0.256</td>\n",
       "      <td>0.744</td>\n",
       "      <td>0.4404</td>\n",
       "    </tr>\n",
       "    <tr>\n",
       "      <th>152</th>\n",
       "      <td>Pls fix app auto close rate app properly</td>\n",
       "      <td>0.000</td>\n",
       "      <td>0.843</td>\n",
       "      <td>0.157</td>\n",
       "      <td>0.0772</td>\n",
       "    </tr>\n",
       "    <tr>\n",
       "      <th>153</th>\n",
       "      <td>Application keep crashing</td>\n",
       "      <td>0.000</td>\n",
       "      <td>1.000</td>\n",
       "      <td>0.000</td>\n",
       "      <td>0.0000</td>\n",
       "    </tr>\n",
       "    <tr>\n",
       "      <th>154</th>\n",
       "      <td>Unable open app</td>\n",
       "      <td>0.000</td>\n",
       "      <td>1.000</td>\n",
       "      <td>0.000</td>\n",
       "      <td>0.0000</td>\n",
       "    </tr>\n",
       "  </tbody>\n",
       "</table>\n",
       "</div>"
      ],
      "text/plain": [
       "                                      comment    neg    neu    pos  compound\n",
       "145                         Cannot find place  0.000  1.000  0.000    0.0000\n",
       "146                 find destination location  0.000  1.000  0.000    0.0000\n",
       "147     App crashes creating account Using s8  0.000  0.694  0.306    0.2960\n",
       "148       publish article CNA app even opened  0.000  1.000  0.000    0.0000\n",
       "149                 App keeps crashing launch  0.000  1.000  0.000    0.0000\n",
       "150                   Bad app Cannot register  0.538  0.462  0.000   -0.5423\n",
       "151                           Good initiative  0.000  0.256  0.744    0.4404\n",
       "152  Pls fix app auto close rate app properly  0.000  0.843  0.157    0.0772\n",
       "153                 Application keep crashing  0.000  1.000  0.000    0.0000\n",
       "154                           Unable open app  0.000  1.000  0.000    0.0000"
      ]
     },
     "execution_count": 28,
     "metadata": {},
     "output_type": "execute_result"
    }
   ],
   "source": [
    "df_sentiment_filtered.tail(10)"
   ]
  },
  {
   "cell_type": "code",
   "execution_count": 29,
   "metadata": {},
   "outputs": [
    {
     "data": {
      "text/plain": [
       "(124, 31)"
      ]
     },
     "execution_count": 29,
     "metadata": {},
     "output_type": "execute_result"
    }
   ],
   "source": [
    "pos_list = list(df_sentiment_filtered[df_sentiment_filtered['compound'] >= 0]['comment'])\n",
    "neg_list = list(df_sentiment_filtered[df_sentiment_filtered['compound'] < 0]['comment'])\n",
    "\n",
    "len(pos_list), len(neg_list)"
   ]
  },
  {
   "cell_type": "code",
   "execution_count": 30,
   "metadata": {},
   "outputs": [],
   "source": [
    "pos_list_clean = clean_list_lemma(clean_list_tokenise(pos_list))\n",
    "neg_list_clean = clean_list_lemma(clean_list_tokenise(neg_list))"
   ]
  },
  {
   "cell_type": "code",
   "execution_count": 31,
   "metadata": {},
   "outputs": [
    {
     "data": {
      "text/plain": [
       "(124, 31)"
      ]
     },
     "execution_count": 31,
     "metadata": {},
     "output_type": "execute_result"
    }
   ],
   "source": [
    "len(pos_list_clean), len(neg_list_clean)"
   ]
  },
  {
   "cell_type": "markdown",
   "metadata": {},
   "source": [
    "Ignore code below"
   ]
  },
  {
   "cell_type": "markdown",
   "metadata": {},
   "source": [
    "### Topic Modelling"
   ]
  },
  {
   "cell_type": "code",
   "execution_count": 32,
   "metadata": {},
   "outputs": [
    {
     "name": "stdout",
     "output_type": "stream",
     "text": [
      "[[(0, 1), (1, 1), (2, 2), (3, 1), (4, 1), (5, 1), (6, 1), (7, 1), (8, 2), (9, 1), (10, 1), (11, 1), (12, 1), (13, 1), (14, 1), (15, 1), (16, 1), (17, 1)], [(8, 1), (18, 1), (19, 1), (20, 1), (21, 1)], [(3, 1), (22, 1), (23, 1), (24, 2), (25, 1), (26, 1), (27, 1), (28, 1), (29, 1)], [(3, 1), (30, 1), (31, 1), (32, 1), (33, 1), (34, 1), (35, 1)], [(8, 1), (31, 1), (36, 1), (37, 1), (38, 1), (39, 1), (40, 1)], [(4, 1), (8, 2), (34, 2), (35, 1), (41, 1), (42, 1), (43, 1), (44, 1), (45, 1), (46, 1), (47, 1), (48, 1), (49, 1), (50, 2), (51, 1), (52, 1), (53, 1), (54, 2), (55, 1), (56, 1), (57, 1), (58, 1), (59, 1), (60, 1), (61, 1), (62, 1)], [(8, 1), (50, 1), (63, 1), (64, 1), (65, 1), (66, 1), (67, 1), (68, 1)], [(8, 1), (33, 1), (35, 1), (39, 1), (56, 2), (60, 1), (69, 1), (70, 1), (71, 1), (72, 1), (73, 1), (74, 1), (75, 1), (76, 1), (77, 1), (78, 1), (79, 1), (80, 1), (81, 1), (82, 1), (83, 1)], [(31, 1), (50, 1), (84, 1), (85, 1), (86, 1)], [(8, 1), (56, 1), (76, 1), (87, 1), (88, 2), (89, 1), (90, 1), (91, 1), (92, 1), (93, 1), (94, 1), (95, 1), (96, 1)]]\n"
     ]
    }
   ],
   "source": [
    "neg_dict = corpora.Dictionary(neg_list_clean)\n",
    "doc_term_matrix = [neg_dict.doc2bow(doc) for doc in neg_list_clean]\n",
    "\n",
    "print(doc_term_matrix[0:10])"
   ]
  },
  {
   "cell_type": "code",
   "execution_count": 44,
   "metadata": {},
   "outputs": [],
   "source": [
    "# Creating the object for LDA model using gensim library\n",
    "Lda = gensim.models.ldamodel.LdaModel\n",
    "\n",
    "# Running and Trainign LDA model on the document term matrix.\n",
    "#doc_term_matrix = frequency of terms of all documents\n",
    "#dictionary = all unique terms\n",
    "ldamodel = Lda(doc_term_matrix, num_topics=3, id2word=neg_dict, passes=50)"
   ]
  },
  {
   "cell_type": "code",
   "execution_count": 45,
   "metadata": {},
   "outputs": [
    {
     "name": "stdout",
     "output_type": "stream",
     "text": [
      "[(0, '0.039*\"keep\" + 0.039*\"sign\" + 0.039*\"code\" + 0.034*\"App\" + 0.034*\"location\"'), (1, '0.108*\"app\" + 0.040*\"ride\" + 0.037*\"Grab\" + 0.034*\"try\" + 0.029*\"using\"'), (2, '0.113*\"driver\" + 0.076*\"app\" + 0.056*\"time\" + 0.037*\"price\" + 0.033*\"Grab\"')]\n"
     ]
    }
   ],
   "source": [
    "print(ldamodel.print_topics(num_topics=3, num_words=5))"
   ]
  },
  {
   "cell_type": "code",
   "execution_count": 46,
   "metadata": {},
   "outputs": [
    {
     "name": "stderr",
     "output_type": "stream",
     "text": [
      "D:\\Windows\\88B90FF3D0D3454AAACE9B026E2829E3.TMP\\Anaconda\\lib\\site-packages\\pyLDAvis\\_prepare.py:257: FutureWarning: Sorting because non-concatenation axis is not aligned. A future version\n",
      "of pandas will change to not sort by default.\n",
      "\n",
      "To accept the future behavior, pass 'sort=True'.\n",
      "\n",
      "To retain the current behavior and silence the warning, pass sort=False\n",
      "\n",
      "  return pd.concat([default_term_info] + list(topic_dfs))\n"
     ]
    },
    {
     "data": {
      "text/html": [
       "\n",
       "<link rel=\"stylesheet\" type=\"text/css\" href=\"https://cdn.rawgit.com/bmabey/pyLDAvis/files/ldavis.v1.0.0.css\">\n",
       "\n",
       "\n",
       "<div id=\"ldavis_el202366590713415767640104311\"></div>\n",
       "<script type=\"text/javascript\">\n",
       "\n",
       "var ldavis_el202366590713415767640104311_data = {\"mdsDat\": {\"x\": [-0.11737234405979544, 0.14918437410559104, -0.031812030045795574], \"y\": [-0.07022803731902187, -0.03319807901032479, 0.1034261163293467], \"topics\": [1, 2, 3], \"cluster\": [1, 1, 1], \"Freq\": [48.59325408935547, 27.709854125976562, 23.69689178466797]}, \"tinfo\": {\"Category\": [\"Default\", \"Default\", \"Default\", \"Default\", \"Default\", \"Default\", \"Default\", \"Default\", \"Default\", \"Default\", \"Default\", \"Default\", \"Default\", \"Default\", \"Default\", \"Default\", \"Default\", \"Default\", \"Default\", \"Default\", \"Default\", \"Default\", \"Default\", \"Default\", \"Default\", \"Default\", \"Default\", \"Default\", \"Default\", \"Default\", \"Topic1\", \"Topic1\", \"Topic1\", \"Topic1\", \"Topic1\", \"Topic1\", \"Topic1\", \"Topic1\", \"Topic1\", \"Topic1\", \"Topic1\", \"Topic1\", \"Topic1\", \"Topic1\", \"Topic1\", \"Topic1\", \"Topic1\", \"Topic1\", \"Topic1\", \"Topic1\", \"Topic1\", \"Topic1\", \"Topic1\", \"Topic1\", \"Topic1\", \"Topic1\", \"Topic1\", \"Topic1\", \"Topic1\", \"Topic1\", \"Topic1\", \"Topic1\", \"Topic1\", \"Topic1\", \"Topic1\", \"Topic1\", \"Topic1\", \"Topic1\", \"Topic1\", \"Topic1\", \"Topic1\", \"Topic1\", \"Topic1\", \"Topic1\", \"Topic2\", \"Topic2\", \"Topic2\", \"Topic2\", \"Topic2\", \"Topic2\", \"Topic2\", \"Topic2\", \"Topic2\", \"Topic2\", \"Topic2\", \"Topic2\", \"Topic2\", \"Topic2\", \"Topic2\", \"Topic2\", \"Topic2\", \"Topic2\", \"Topic2\", \"Topic2\", \"Topic2\", \"Topic2\", \"Topic2\", \"Topic2\", \"Topic2\", \"Topic2\", \"Topic2\", \"Topic2\", \"Topic2\", \"Topic2\", \"Topic2\", \"Topic2\", \"Topic2\", \"Topic2\", \"Topic2\", \"Topic2\", \"Topic2\", \"Topic2\", \"Topic2\", \"Topic2\", \"Topic2\", \"Topic2\", \"Topic3\", \"Topic3\", \"Topic3\", \"Topic3\", \"Topic3\", \"Topic3\", \"Topic3\", \"Topic3\", \"Topic3\", \"Topic3\", \"Topic3\", \"Topic3\", \"Topic3\", \"Topic3\", \"Topic3\", \"Topic3\", \"Topic3\", \"Topic3\", \"Topic3\", \"Topic3\", \"Topic3\", \"Topic3\", \"Topic3\", \"Topic3\", \"Topic3\", \"Topic3\", \"Topic3\", \"Topic3\", \"Topic3\", \"Topic3\", \"Topic3\", \"Topic3\", \"Topic3\", \"Topic3\", \"Topic3\", \"Topic3\"], \"Freq\": [26.0, 29.0, 13.0, 5.0, 5.0, 5.0, 4.0, 4.0, 4.0, 4.0, 9.0, 3.0, 5.0, 3.0, 3.0, 7.0, 5.0, 2.0, 2.0, 2.0, 9.0, 2.0, 2.0, 3.0, 5.0, 1.0, 1.0, 1.0, 1.0, 1.0, 25.723941802978516, 12.625508308410645, 7.357202053070068, 4.561889171600342, 3.884798288345337, 3.870901346206665, 3.7927210330963135, 2.395728588104248, 8.33951187133789, 6.843471050262451, 1.699332594871521, 1.699321985244751, 1.6992831230163574, 1.6990879774093628, 1.699082612991333, 1.6989260911941528, 1.6986052989959717, 1.692375659942627, 3.8365824222564697, 3.084876298904419, 0.9709957838058472, 0.9709957838058472, 0.9709957838058472, 0.9709957838058472, 0.9707764983177185, 0.9706770181655884, 0.9706057906150818, 0.9706057906150818, 0.9704708456993103, 0.9704360365867615, 17.324398040771484, 2.2678916454315186, 2.2655770778656006, 1.4108697175979614, 4.5605621337890625, 1.7232946157455444, 7.492732048034668, 1.7052849531173706, 1.7047967910766602, 1.7012004852294922, 4.624085426330566, 2.2286531925201416, 3.240931272506714, 3.1159276962280273, 5.084744930267334, 5.057194232940674, 5.033950328826904, 4.472962379455566, 4.466274261474609, 4.406918525695801, 3.2423973083496094, 3.2301552295684814, 2.02915620803833, 2.023526430130005, 3.9839956760406494, 1.4241234064102173, 1.4228370189666748, 1.4228355884552002, 1.4181526899337769, 1.3715859651565552, 0.8136136531829834, 0.8136136531829834, 0.8136136531829834, 0.8136136531829834, 0.8136039972305298, 0.8136039972305298, 0.8134966492652893, 0.8134822249412537, 0.8126473426818848, 0.8122991323471069, 0.8110517263412476, 3.2876129150390625, 0.8006613850593567, 0.8001312017440796, 1.4374253749847412, 2.5836985111236572, 4.269550323486328, 2.321183204650879, 1.5909466743469238, 1.8114657402038574, 1.4090558290481567, 0.9887218475341797, 1.3843663930892944, 1.347686767578125, 0.8737815618515015, 0.818267822265625, 3.8181095123291016, 3.21096134185791, 2.0121452808380127, 2.011840343475342, 2.001307249069214, 1.4103760719299316, 1.4102706909179688, 1.4102681875228882, 1.4101243019104004, 1.4083729982376099, 0.805865466594696, 0.8058654069900513, 0.8057587146759033, 0.8057587146759033, 0.8054605722427368, 0.8054253458976746, 0.8035892844200134, 0.7830466628074646, 0.7830466628074646, 0.7717573642730713, 2.0520403385162354, 1.2370940446853638, 4.419432163238525, 0.8156489729881287, 0.8599511384963989, 0.8067530393600464, 0.8061807155609131, 1.3995530605316162, 12.008468627929688, 2.669407367706299, 4.064126491546631, 1.8156009912490845, 2.2811648845672607, 1.6622940301895142, 0.940898060798645, 0.9390050768852234], \"Term\": [\"driver\", \"app\", \"time\", \"keep\", \"sign\", \"code\", \"try\", \"App\", \"location\", \"verification\", \"ride\", \"using\", \"service\", \"work\", \"crash\", \"still\", \"number\", \"sure\", \"Cannot\", \"new\", \"price\", \"used\", \"expensive\", \"apps\", \"good\", \"whether\", \"go\", \"place\", \"open\", \"another\", \"driver\", \"time\", \"still\", \"booking\", \"Tried\", \"accept\", \"show\", \"address\", \"price\", \"use\", \"10\", \"useless\", \"one\", \"due\", \"wait\", \"last\", \"min\", \"cant\", \"take\", \"tried\", \"morning\", \"hour\", \"nearby\", \"match\", \"undercut\", \"le\", \"reached\", \"potential\", \"turn\", \"4\", \"app\", \"TADA\", \"give\", \"without\", \"even\", \"though\", \"Grab\", \"rider\", \"start\", \"However\", \"ride\", \"compare\", \"find\", \"get\", \"keep\", \"sign\", \"code\", \"App\", \"location\", \"verification\", \"work\", \"crash\", \"used\", \"expensive\", \"service\", \"could\", \"GPS\", \"pick\", \"working\", \"sent\", \"detail\", \"feedback\", \"unfortunately\", \"keyed\", \"page\", \"key\", \"correct\", \"interface\", \"allow\", \"simple\", \"received\", \"number\", \"closing\", \"despite\", \"much\", \"good\", \"Grab\", \"find\", \"compare\", \"even\", \"get\", \"book\", \"use\", \"price\", \"tried\", \"destination\", \"try\", \"using\", \"sure\", \"Cannot\", \"new\", \"whether\", \"go\", \"place\", \"open\", \"another\", \"reinstall\", \"problem\", \"customer\", \"Pricing\", \"launched\", \"similar\", \"review\", \"happens\", \"simply\", \"especially\", \"apps\", \"book\", \"ride\", \"easy\", \"going\", \"went\", \"properly\", \"peak\", \"app\", \"get\", \"Grab\", \"good\", \"even\", \"find\", \"give\", \"TADA\"], \"Total\": [26.0, 29.0, 13.0, 5.0, 5.0, 5.0, 4.0, 4.0, 4.0, 4.0, 9.0, 3.0, 5.0, 3.0, 3.0, 7.0, 5.0, 2.0, 2.0, 2.0, 9.0, 2.0, 2.0, 3.0, 5.0, 1.0, 1.0, 1.0, 1.0, 1.0, 26.143287658691406, 13.032417297363281, 7.905429363250732, 5.0101752281188965, 4.290392875671387, 4.288137435913086, 4.274896144866943, 2.827913761138916, 9.895999908447266, 8.432674407958984, 2.10483980178833, 2.1048378944396973, 2.1048312187194824, 2.104799270629883, 2.1047980785369873, 2.104771852493286, 2.1047189235687256, 2.1037089824676514, 4.887433052062988, 4.160796642303467, 1.3763474225997925, 1.3763474225997925, 1.3763474225997925, 1.3763474225997925, 1.3763110637664795, 1.376293659210205, 1.376281976699829, 1.376281976699829, 1.37626051902771, 1.3762540817260742, 29.552125930786133, 3.410797357559204, 3.4104037284851074, 2.055788040161133, 8.653192520141602, 2.7192118167877197, 15.826408386230469, 2.710571765899658, 2.716106414794922, 2.7101290225982666, 9.25324821472168, 4.0220794677734375, 7.2244086265563965, 7.194390773773193, 5.531962871551514, 5.534064292907715, 5.532016754150391, 4.921978950500488, 4.923264026641846, 4.93425178527832, 3.7009286880493164, 3.7002670764923096, 2.4803621768951416, 2.4815099239349365, 5.009549140930176, 1.8689074516296387, 1.8689883947372437, 1.8689883947372437, 1.868918538093567, 1.8790018558502197, 1.2584065198898315, 1.2584065198898315, 1.2584065198898315, 1.2584065198898315, 1.2584114074707031, 1.2584114074707031, 1.2584130764007568, 1.2584171295166016, 1.2584707736968994, 1.2585608959197998, 1.2585729360580444, 5.151149272918701, 1.258363962173462, 1.260964274406433, 2.474604606628418, 5.685197830200195, 15.826408386230469, 7.2244086265563965, 4.0220794677734375, 8.653192520141602, 7.194390773773193, 2.469467878341675, 8.432674407958984, 9.895999908447266, 4.160796642303467, 1.985802412033081, 4.275893688201904, 3.673807382583618, 2.461902618408203, 2.461918830871582, 2.46321439743042, 1.8572030067443848, 1.85720694065094, 1.8572041988372803, 1.8572216033935547, 1.857627034187317, 1.2525498867034912, 1.2525498867034912, 1.2525533437728882, 1.2525533437728882, 1.2525877952575684, 1.2525949478149414, 1.253021478652954, 1.2571806907653809, 1.2571806907653809, 1.2528899908065796, 3.9102020263671875, 2.469467878341675, 9.25324821472168, 1.8635897636413574, 1.9682866334915161, 1.8630658388137817, 1.8632798194885254, 3.314178466796875, 29.552125930786133, 7.194390773773193, 15.826408386230469, 5.685197830200195, 8.653192520141602, 7.2244086265563965, 3.4104037284851074, 3.410797357559204], \"loglift\": [30.0, 29.0, 28.0, 27.0, 26.0, 25.0, 24.0, 23.0, 22.0, 21.0, 20.0, 19.0, 18.0, 17.0, 16.0, 15.0, 14.0, 13.0, 12.0, 11.0, 10.0, 9.0, 8.0, 7.0, 6.0, 5.0, 4.0, 3.0, 2.0, 1.0, 0.7055000066757202, 0.6899999976158142, 0.6498000025749207, 0.628000020980835, 0.6223999857902527, 0.6193000078201294, 0.6019999980926514, 0.5558000206947327, 0.550599992275238, 0.5128999948501587, 0.5077000260353088, 0.5077000260353088, 0.5077000260353088, 0.5076000094413757, 0.5076000094413757, 0.5074999928474426, 0.5073000192642212, 0.5041000247001648, 0.4796000123023987, 0.42250001430511475, 0.37279999256134033, 0.37279999256134033, 0.37279999256134033, 0.37279999256134033, 0.3725999891757965, 0.3725000023841858, 0.3725000023841858, 0.3725000023841858, 0.37229999899864197, 0.37229999899864197, 0.1876000016927719, 0.31360000371932983, 0.3127000033855438, 0.3452000021934509, 0.0812000036239624, 0.2655999958515167, -0.026100000366568565, 0.2583000063896179, 0.25589999556541443, 0.25600001215934753, 0.02800000086426735, 0.13130000233650208, -0.07989999651908875, -0.11509999632835388, 1.1991000175476074, 1.1933000087738037, 1.1890000104904175, 1.1877000331878662, 1.1859999895095825, 1.1704000234603882, 1.1511000394821167, 1.1475000381469727, 1.0825999975204468, 1.0793999433517456, 1.0542999505996704, 1.0116000175476074, 1.010599970817566, 1.010599970817566, 1.0074000358581543, 0.9685999751091003, 0.8472999930381775, 0.8472999930381775, 0.8472999930381775, 0.8472999930381775, 0.8472999930381775, 0.8472999930381775, 0.847100019454956, 0.847100019454956, 0.8460000157356262, 0.8454999923706055, 0.843999981880188, 0.8342999815940857, 0.8313000202178955, 0.828499972820282, 0.7401999831199646, 0.49470001459121704, -0.026799999177455902, 0.14800000190734863, 0.35589998960494995, -0.28040000796318054, -0.34700000286102295, 0.36800000071525574, -0.5235000252723694, -0.7103999853134155, -0.27720001339912415, 0.3968000113964081, 1.3265999555587769, 1.3051999807357788, 1.2381000518798828, 1.2379000186920166, 1.232200026512146, 1.1646000146865845, 1.1644999980926514, 1.1644999980926514, 1.1643999814987183, 1.1629999876022339, 0.9987999796867371, 0.9987999796867371, 0.9987000226974487, 0.9987000226974487, 0.9983000159263611, 0.998199999332428, 0.9955999851226807, 0.9664000272750854, 0.9664000272750854, 0.955299973487854, 0.7950999736785889, 0.7486000061035156, 0.7009000182151794, 0.6136000156402588, 0.6118000149726868, 0.6029000282287598, 0.6019999980926514, 0.5777999758720398, 0.5393000245094299, 0.44839999079704285, 0.08030000329017639, 0.29840001463890076, 0.10660000145435333, -0.029400000348687172, 0.15209999680519104, 0.14990000426769257], \"logprob\": [30.0, 29.0, 28.0, 27.0, 26.0, 25.0, 24.0, 23.0, 22.0, 21.0, 20.0, 19.0, 18.0, 17.0, 16.0, 15.0, 14.0, 13.0, 12.0, 11.0, 10.0, 9.0, 8.0, 7.0, 6.0, 5.0, 4.0, 3.0, 2.0, 1.0, -2.1793999671936035, -2.8910999298095703, -3.4310998916625977, -3.9089999198913574, -4.069699764251709, -4.073299884796143, -4.093699932098389, -4.553100109100342, -3.305799961090088, -3.503499984741211, -4.896500110626221, -4.896599769592285, -4.896599769592285, -4.896699905395508, -4.896699905395508, -4.8968000411987305, -4.896999835968018, -4.900599956512451, -4.082200050354004, -4.300300121307373, -5.456200122833252, -5.456200122833252, -5.456200122833252, -5.456200122833252, -5.456399917602539, -5.456500053405762, -5.456600189208984, -5.456600189208984, -5.4567999839782715, -5.4567999839782715, -2.574700117111206, -4.607900142669678, -4.609000205993652, -5.082600116729736, -3.9093000888824463, -4.882500171661377, -3.4128000736236572, -4.893099784851074, -4.8933000564575195, -4.895400047302246, -3.8954999446868896, -4.625400066375732, -4.250899791717529, -4.290299892425537, -3.238800048828125, -3.24429988861084, -3.2488999366760254, -3.367000102996826, -3.368499994277954, -3.3819000720977783, -3.688800096511841, -3.6926000118255615, -4.15749979019165, -4.160200119018555, -3.482800006866455, -4.511499881744385, -4.512400150299072, -4.512400150299072, -4.515699863433838, -4.549099922180176, -5.071400165557861, -5.071400165557861, -5.071400165557861, -5.071400165557861, -5.071400165557861, -5.071400165557861, -5.071499824523926, -5.071499824523926, -5.072500228881836, -5.072999954223633, -5.07450008392334, -3.6749000549316406, -5.087399959564209, -5.088099956512451, -4.502200126647949, -3.9158999919891357, -3.413599967956543, -4.0229997634887695, -4.4008002281188965, -4.270999908447266, -4.522200107574463, -4.876399993896484, -4.53980016708374, -4.566699981689453, -5.0, -5.065700054168701, -3.3689000606536865, -3.542099952697754, -4.009399890899658, -4.0096001625061035, -4.014800071716309, -4.364799976348877, -4.3649001121521, -4.3649001121521, -4.364999771118164, -4.366199970245361, -4.924499988555908, -4.924499988555908, -4.924600124359131, -4.924600124359131, -4.925000190734863, -4.925000190734863, -4.927299976348877, -4.953199863433838, -4.953199863433838, -4.967700004577637, -3.989799976348877, -4.4959001541137695, -3.222599983215332, -4.912399768829346, -4.859499931335449, -4.923399925231934, -4.924099922180176, -4.372499942779541, -2.2230000495910645, -3.726799964904785, -3.3064000606536865, -4.112199783325195, -3.884000062942505, -4.200399875640869, -4.769599914550781, -4.771599769592285]}, \"token.table\": {\"Topic\": [1, 1, 2, 3, 2, 1, 2, 3, 1, 3, 3, 1, 3, 1, 1, 1, 2, 3, 1, 3, 1, 3, 2, 3, 1, 1, 2, 2, 1, 2, 2, 2, 2, 3, 2, 1, 2, 2, 1, 1, 2, 3, 3, 1, 2, 3, 2, 2, 1, 2, 3, 1, 2, 3, 1, 3, 3, 1, 3, 1, 2, 3, 3, 1, 2, 2, 2, 2, 1, 3, 1, 2, 1, 1, 1, 2, 3, 1, 3, 1, 2, 1, 3, 2, 1, 3, 2, 3, 1, 1, 2, 3, 2, 3, 1, 2, 3, 3, 1, 3, 1, 3, 2, 1, 2, 1, 2, 3, 2, 3, 1, 2, 1, 3, 1, 3, 1, 2, 1, 1, 2, 3, 1, 1, 2, 1, 2, 2, 1, 3, 2, 1, 2, 3, 3, 1, 2, 2], \"Freq\": [0.950191080570221, 0.726610004901886, 0.812681257724762, 0.812374472618103, 0.53504878282547, 0.4422987103462219, 0.25274211168289185, 0.25274211168289185, 0.7379722595214844, 0.3689861297607422, 0.7983691692352295, 0.5863731503486633, 0.29318657517433167, 0.9323155283927917, 0.9328058958053589, 0.7072351574897766, 0.7946152091026306, 0.5383211970329285, 0.5752547383308411, 0.40606215596199036, 0.5114825367927551, 0.5114825367927551, 0.4049455523490906, 0.4049455523490906, 0.9979690909385681, 0.9507018327713013, 0.7946826219558716, 0.9038295149803162, 0.49725520610809326, 0.49725520610809326, 0.7946516275405884, 0.5350719690322876, 0.810752272605896, 0.7983691692352295, 0.793043851852417, 0.503574788570404, 0.503574788570404, 0.7946557402610779, 0.9945191144943237, 0.950209379196167, 0.536598801612854, 0.536598801612854, 0.7981546521186829, 0.5778214335441589, 0.23112857341766357, 0.23112857341766357, 0.8059608936309814, 0.7946557402610779, 0.41525891423225403, 0.2768392562866211, 0.2768392562866211, 0.41699153184890747, 0.1389971822500229, 0.41699153184890747, 0.5864408612251282, 0.2932204306125641, 0.5384429693222046, 0.508056104183197, 0.508056104183197, 0.17589537799358368, 0.5276861190795898, 0.35179075598716736, 0.795430600643158, 0.7265607118606567, 0.794649064540863, 0.9038383364677429, 0.7946527004241943, 0.7946557402610779, 0.9502217769622803, 0.7983472347259521, 0.7265891432762146, 0.8124691247940063, 0.7265607118606567, 0.9502456784248352, 0.7265607118606567, 0.40410494804382324, 0.40410494804382324, 0.7265607118606567, 0.8119471669197083, 0.38826286792755127, 0.5823943018913269, 0.9501949548721313, 0.5384387373924255, 0.7946527004241943, 0.6034678220748901, 0.30173391103744507, 0.53504878282547, 0.5384437441825867, 0.7265952825546265, 0.8084074258804321, 0.10105092823505402, 0.7983713746070862, 0.5366880297660828, 0.5366880297660828, 0.7265952825546265, 0.7945507168769836, 0.7983713746070862, 0.7980709075927734, 0.5403507947921753, 0.43228062987327576, 0.7378516793251038, 0.3689258396625519, 0.5321974754333496, 0.19961875677108765, 0.7984750270843506, 0.935695230960846, 0.9034951329231262, 0.7983426451683044, 0.7945582866668701, 0.795430600643158, 0.7363481521606445, 0.36817407608032227, 0.8854674100875854, 0.8123798370361328, 0.8184255361557007, 0.20460638403892517, 0.7355072498321533, 0.36775362491607666, 0.9975125789642334, 0.7210157513618469, 0.24033859372138977, 0.9354769587516785, 0.7266066074371338, 0.7265799045562744, 0.7946557402610779, 0.830104410648346, 0.11858633905649185, 0.8063338398933411, 0.9501919150352478, 0.8165915608406067, 0.8106598854064941, 0.95020991563797, 0.5367496609687805, 0.5367496609687805, 0.5384441018104553, 0.4864314794540405, 0.810607373714447, 0.5350688099861145], \"Term\": [\"10\", \"4\", \"App\", \"Cannot\", \"GPS\", \"Grab\", \"Grab\", \"Grab\", \"However\", \"However\", \"Pricing\", \"TADA\", \"TADA\", \"Tried\", \"accept\", \"address\", \"allow\", \"another\", \"app\", \"app\", \"apps\", \"apps\", \"book\", \"book\", \"booking\", \"cant\", \"closing\", \"code\", \"compare\", \"compare\", \"correct\", \"could\", \"crash\", \"customer\", \"despite\", \"destination\", \"destination\", \"detail\", \"driver\", \"due\", \"easy\", \"easy\", \"especially\", \"even\", \"even\", \"even\", \"expensive\", \"feedback\", \"find\", \"find\", \"find\", \"get\", \"get\", \"get\", \"give\", \"give\", \"go\", \"going\", \"going\", \"good\", \"good\", \"good\", \"happens\", \"hour\", \"interface\", \"keep\", \"key\", \"keyed\", \"last\", \"launched\", \"le\", \"location\", \"match\", \"min\", \"morning\", \"much\", \"much\", \"nearby\", \"new\", \"number\", \"number\", \"one\", \"open\", \"page\", \"peak\", \"peak\", \"pick\", \"place\", \"potential\", \"price\", \"price\", \"problem\", \"properly\", \"properly\", \"reached\", \"received\", \"reinstall\", \"review\", \"ride\", \"ride\", \"rider\", \"rider\", \"sent\", \"service\", \"service\", \"show\", \"sign\", \"similar\", \"simple\", \"simply\", \"start\", \"start\", \"still\", \"sure\", \"take\", \"take\", \"though\", \"though\", \"time\", \"tried\", \"tried\", \"try\", \"turn\", \"undercut\", \"unfortunately\", \"use\", \"use\", \"used\", \"useless\", \"using\", \"verification\", \"wait\", \"went\", \"went\", \"whether\", \"without\", \"work\", \"working\"]}, \"R\": 30, \"lambda.step\": 0.01, \"plot.opts\": {\"xlab\": \"PC1\", \"ylab\": \"PC2\"}, \"topic.order\": [3, 1, 2]};\n",
       "\n",
       "function LDAvis_load_lib(url, callback){\n",
       "  var s = document.createElement('script');\n",
       "  s.src = url;\n",
       "  s.async = true;\n",
       "  s.onreadystatechange = s.onload = callback;\n",
       "  s.onerror = function(){console.warn(\"failed to load library \" + url);};\n",
       "  document.getElementsByTagName(\"head\")[0].appendChild(s);\n",
       "}\n",
       "\n",
       "if(typeof(LDAvis) !== \"undefined\"){\n",
       "   // already loaded: just create the visualization\n",
       "   !function(LDAvis){\n",
       "       new LDAvis(\"#\" + \"ldavis_el202366590713415767640104311\", ldavis_el202366590713415767640104311_data);\n",
       "   }(LDAvis);\n",
       "}else if(typeof define === \"function\" && define.amd){\n",
       "   // require.js is available: use it to load d3/LDAvis\n",
       "   require.config({paths: {d3: \"https://cdnjs.cloudflare.com/ajax/libs/d3/3.5.5/d3.min\"}});\n",
       "   require([\"d3\"], function(d3){\n",
       "      window.d3 = d3;\n",
       "      LDAvis_load_lib(\"https://cdn.rawgit.com/bmabey/pyLDAvis/files/ldavis.v1.0.0.js\", function(){\n",
       "        new LDAvis(\"#\" + \"ldavis_el202366590713415767640104311\", ldavis_el202366590713415767640104311_data);\n",
       "      });\n",
       "    });\n",
       "}else{\n",
       "    // require.js not available: dynamically load d3 & LDAvis\n",
       "    LDAvis_load_lib(\"https://cdnjs.cloudflare.com/ajax/libs/d3/3.5.5/d3.min.js\", function(){\n",
       "         LDAvis_load_lib(\"https://cdn.rawgit.com/bmabey/pyLDAvis/files/ldavis.v1.0.0.js\", function(){\n",
       "                 new LDAvis(\"#\" + \"ldavis_el202366590713415767640104311\", ldavis_el202366590713415767640104311_data);\n",
       "            })\n",
       "         });\n",
       "}\n",
       "</script>"
      ],
      "text/plain": [
       "PreparedData(topic_coordinates=              x         y  topics  cluster       Freq\n",
       "topic                                                \n",
       "2     -0.117372 -0.070228       1        1  48.593254\n",
       "0      0.149184 -0.033198       2        1  27.709854\n",
       "1     -0.031812  0.103426       3        1  23.696892, topic_info=     Category       Freq          Term      Total  loglift  logprob\n",
       "term                                                               \n",
       "8     Default  26.000000        driver  26.000000  30.0000  30.0000\n",
       "3     Default  29.000000           app  29.000000  29.0000  29.0000\n",
       "56    Default  13.000000          time  13.000000  28.0000  28.0000\n",
       "99    Default   5.000000          keep   5.000000  27.0000  27.0000\n",
       "159   Default   5.000000          sign   5.000000  26.0000  26.0000\n",
       "153   Default   5.000000          code   5.000000  25.0000  25.0000\n",
       "146   Default   4.000000           try   4.000000  24.0000  24.0000\n",
       "97    Default   4.000000           App   4.000000  23.0000  23.0000\n",
       "218   Default   4.000000      location   4.000000  22.0000  22.0000\n",
       "160   Default   4.000000  verification   4.000000  21.0000  21.0000\n",
       "35    Default   9.000000          ride   9.000000  20.0000  20.0000\n",
       "16    Default   3.000000         using   3.000000  19.0000  19.0000\n",
       "39    Default   5.000000       service   5.000000  18.0000  18.0000\n",
       "236   Default   3.000000          work   3.000000  17.0000  17.0000\n",
       "201   Default   3.000000         crash   3.000000  16.0000  16.0000\n",
       "91    Default   7.000000         still   7.000000  15.0000  15.0000\n",
       "213   Default   5.000000        number   5.000000  14.0000  14.0000\n",
       "92    Default   2.000000          sure   2.000000  13.0000  13.0000\n",
       "30    Default   2.000000        Cannot   2.000000  12.0000  12.0000\n",
       "173   Default   2.000000           new   2.000000  11.0000  11.0000\n",
       "143   Default   9.000000         price   9.000000  10.0000  10.0000\n",
       "94    Default   2.000000          used   2.000000   9.0000   9.0000\n",
       "183   Default   2.000000     expensive   2.000000   8.0000   8.0000\n",
       "88    Default   3.000000          apps   3.000000   7.0000   7.0000\n",
       "154   Default   5.000000          good   5.000000   6.0000   6.0000\n",
       "187   Default   1.000000       whether   1.000000   5.0000   5.0000\n",
       "138   Default   1.000000            go   1.000000   4.0000   4.0000\n",
       "54    Default   1.000000         place   1.000000   3.0000   3.0000\n",
       "148   Default   1.000000          open   1.000000   2.0000   2.0000\n",
       "2     Default   1.000000       another   1.000000   1.0000   1.0000\n",
       "...       ...        ...           ...        ...      ...      ...\n",
       "138    Topic3   1.410271            go   1.857207   1.1645  -4.3649\n",
       "54     Topic3   1.410268         place   1.857204   1.1645  -4.3649\n",
       "148    Topic3   1.410124          open   1.857222   1.1644  -4.3650\n",
       "2      Topic3   1.408373       another   1.857627   1.1630  -4.3662\n",
       "228    Topic3   0.805865     reinstall   1.252550   0.9988  -4.9245\n",
       "223    Topic3   0.805865       problem   1.252550   0.9988  -4.9245\n",
       "7      Topic3   0.805759      customer   1.252553   0.9987  -4.9246\n",
       "215    Topic3   0.805759       Pricing   1.252553   0.9987  -4.9246\n",
       "221    Topic3   0.805461      launched   1.252588   0.9983  -4.9250\n",
       "145    Topic3   0.805425       similar   1.252595   0.9982  -4.9250\n",
       "194    Topic3   0.803589        review   1.253021   0.9956  -4.9273\n",
       "172    Topic3   0.783047       happens   1.257181   0.9664  -4.9532\n",
       "195    Topic3   0.783047        simply   1.257181   0.9664  -4.9532\n",
       "20     Topic3   0.771757    especially   1.252890   0.9553  -4.9677\n",
       "88     Topic3   2.052040          apps   3.910202   0.7951  -3.9898\n",
       "33     Topic3   1.237094          book   2.469468   0.7486  -4.4959\n",
       "35     Topic3   4.419432          ride   9.253248   0.7009  -3.2226\n",
       "134    Topic3   0.815649          easy   1.863590   0.6136  -4.9124\n",
       "184    Topic3   0.859951         going   1.968287   0.6118  -4.8595\n",
       "124    Topic3   0.806753          went   1.863066   0.6029  -4.9234\n",
       "174    Topic3   0.806181      properly   1.863280   0.6020  -4.9241\n",
       "141    Topic3   1.399553          peak   3.314178   0.5778  -4.3725\n",
       "3      Topic3  12.008469           app  29.552126   0.5393  -2.2230\n",
       "76     Topic3   2.669407           get   7.194391   0.4484  -3.7268\n",
       "44     Topic3   4.064126          Grab  15.826408   0.0803  -3.3064\n",
       "154    Topic3   1.815601          good   5.685198   0.2984  -4.1122\n",
       "34     Topic3   2.281165          even   8.653193   0.1066  -3.8840\n",
       "202    Topic3   1.662294          find   7.224409  -0.0294  -4.2004\n",
       "137    Topic3   0.940898          give   3.410404   0.1521  -4.7696\n",
       "1      Topic3   0.939005          TADA   3.410797   0.1499  -4.7716\n",
       "\n",
       "[152 rows x 6 columns], token_table=      Topic      Freq           Term\n",
       "term                                \n",
       "100       1  0.950191             10\n",
       "208       1  0.726610              4\n",
       "97        2  0.812681            App\n",
       "30        3  0.812374         Cannot\n",
       "43        2  0.535049            GPS\n",
       "44        1  0.442299           Grab\n",
       "44        2  0.252742           Grab\n",
       "44        3  0.252742           Grab\n",
       "179       1  0.737972        However\n",
       "179       3  0.368986        However\n",
       "215       3  0.798369        Pricing\n",
       "1         1  0.586373           TADA\n",
       "1         3  0.293187           TADA\n",
       "210       1  0.932316          Tried\n",
       "71        1  0.932806         accept\n",
       "22        1  0.707235        address\n",
       "32        2  0.794615          allow\n",
       "2         3  0.538321        another\n",
       "3         1  0.575255            app\n",
       "3         3  0.406062            app\n",
       "88        1  0.511483           apps\n",
       "88        3  0.511483           apps\n",
       "33        2  0.404946           book\n",
       "33        3  0.404946           book\n",
       "50        1  0.997969        booking\n",
       "89        1  0.950702           cant\n",
       "227       2  0.794683        closing\n",
       "153       2  0.903830           code\n",
       "133       1  0.497255        compare\n",
       "133       2  0.497255        compare\n",
       "...     ...       ...            ...\n",
       "224       2  0.794558         simple\n",
       "195       3  0.795431         simply\n",
       "122       1  0.736348          start\n",
       "122       2  0.368174          start\n",
       "91        1  0.885467          still\n",
       "92        3  0.812380           sure\n",
       "86        1  0.818426           take\n",
       "86        3  0.204606           take\n",
       "14        1  0.735507         though\n",
       "14        2  0.367754         though\n",
       "56        1  0.997513           time\n",
       "81        1  0.721016          tried\n",
       "81        2  0.240339          tried\n",
       "146       3  0.935477            try\n",
       "15        1  0.726607           turn\n",
       "186       1  0.726580       undercut\n",
       "93        2  0.794656  unfortunately\n",
       "147       1  0.830104            use\n",
       "147       2  0.118586            use\n",
       "94        2  0.806334           used\n",
       "83        1  0.950192        useless\n",
       "16        3  0.816592          using\n",
       "160       2  0.810660   verification\n",
       "161       1  0.950210           wait\n",
       "124       2  0.536750           went\n",
       "124       3  0.536750           went\n",
       "187       3  0.538444        whether\n",
       "17        1  0.486431        without\n",
       "236       2  0.810607           work\n",
       "96        2  0.535069        working\n",
       "\n",
       "[138 rows x 3 columns], R=30, lambda_step=0.01, plot_opts={'xlab': 'PC1', 'ylab': 'PC2'}, topic_order=[3, 1, 2])"
      ]
     },
     "execution_count": 46,
     "metadata": {},
     "output_type": "execute_result"
    }
   ],
   "source": [
    "pyLDAvis.gensim.prepare(ldamodel, doc_term_matrix, neg_dict)"
   ]
  },
  {
   "cell_type": "markdown",
   "metadata": {},
   "source": [
    "# Topic Modelling (Positive)"
   ]
  },
  {
   "cell_type": "code",
   "execution_count": 36,
   "metadata": {},
   "outputs": [
    {
     "name": "stdout",
     "output_type": "stream",
     "text": [
      "[[(8, 1), (184, 1)], [(8, 1), (53, 1), (91, 1), (202, 1)], [(3, 1), (8, 2), (17, 1), (161, 1), (202, 1), (210, 1)], [(94, 1), (159, 2), (213, 1), (220, 1)], [(44, 1), (133, 1)], [(8, 1), (175, 1), (218, 1)], [(1, 1), (3, 1), (54, 1), (76, 3), (137, 1), (138, 1)], [(3, 1), (35, 1), (103, 1)], [(34, 1), (88, 1), (89, 1), (147, 1), (159, 1), (235, 1)], [(3, 1)]]\n"
     ]
    }
   ],
   "source": [
    "pos_dict = corpora.Dictionary(pos_list_clean)\n",
    "doc_term_matrix = [neg_dict.doc2bow(doc) for doc in pos_list_clean]\n",
    "\n",
    "print(doc_term_matrix[0:10])"
   ]
  },
  {
   "cell_type": "code",
   "execution_count": 42,
   "metadata": {},
   "outputs": [],
   "source": [
    "# Creating the object for LDA model using gensim library\n",
    "Lda = gensim.models.ldamodel.LdaModel\n",
    "\n",
    "# Running and Trainign LDA model on the document term matrix.\n",
    "#doc_term_matrix = frequency of terms of all documents\n",
    "#dictionary = all unique terms\n",
    "ldamodel = Lda(doc_term_matrix, num_topics=2, id2word=pos_dict, passes=50)"
   ]
  },
  {
   "cell_type": "code",
   "execution_count": 43,
   "metadata": {},
   "outputs": [
    {
     "name": "stderr",
     "output_type": "stream",
     "text": [
      "D:\\Windows\\88B90FF3D0D3454AAACE9B026E2829E3.TMP\\Anaconda\\lib\\site-packages\\pyLDAvis\\_prepare.py:257: FutureWarning: Sorting because non-concatenation axis is not aligned. A future version\n",
      "of pandas will change to not sort by default.\n",
      "\n",
      "To accept the future behavior, pass 'sort=True'.\n",
      "\n",
      "To retain the current behavior and silence the warning, pass sort=False\n",
      "\n",
      "  return pd.concat([default_term_info] + list(topic_dfs))\n"
     ]
    },
    {
     "data": {
      "text/html": [
       "\n",
       "<link rel=\"stylesheet\" type=\"text/css\" href=\"https://cdn.rawgit.com/bmabey/pyLDAvis/files/ldavis.v1.0.0.css\">\n",
       "\n",
       "\n",
       "<div id=\"ldavis_el2023665890450040817784679\"></div>\n",
       "<script type=\"text/javascript\">\n",
       "\n",
       "var ldavis_el2023665890450040817784679_data = {\"mdsDat\": {\"x\": [0.082753449678421, -0.082753449678421], \"y\": [0.0, 0.0], \"topics\": [1, 2], \"cluster\": [1, 1], \"Freq\": [80.4664535522461, 19.533544540405273]}, \"tinfo\": {\"Category\": [\"Default\", \"Default\", \"Default\", \"Default\", \"Default\", \"Default\", \"Default\", \"Default\", \"Default\", \"Default\", \"Default\", \"Default\", \"Default\", \"Default\", \"Default\", \"Default\", \"Default\", \"Default\", \"Default\", \"Default\", \"Default\", \"Default\", \"Default\", \"Default\", \"Default\", \"Default\", \"Default\", \"Default\", \"Default\", \"Default\", \"Topic1\", \"Topic1\", \"Topic1\", \"Topic1\", \"Topic1\", \"Topic1\", \"Topic1\", \"Topic1\", \"Topic1\", \"Topic1\", \"Topic1\", \"Topic1\", \"Topic1\", \"Topic1\", \"Topic1\", \"Topic1\", \"Topic1\", \"Topic1\", \"Topic1\", \"Topic1\", \"Topic1\", \"Topic1\", \"Topic1\", \"Topic1\", \"Topic1\", \"Topic1\", \"Topic1\", \"Topic1\", \"Topic1\", \"Topic1\", \"Topic1\", \"Topic2\", \"Topic2\", \"Topic2\", \"Topic2\", \"Topic2\", \"Topic2\", \"Topic2\", \"Topic2\", \"Topic2\", \"Topic2\", \"Topic2\", \"Topic2\", \"Topic2\", \"Topic2\", \"Topic2\", \"Topic2\", \"Topic2\", \"Topic2\", \"Topic2\", \"Topic2\", \"Topic2\", \"Topic2\", \"Topic2\", \"Topic2\", \"Topic2\", \"Topic2\", \"Topic2\", \"Topic2\", \"Topic2\", \"Topic2\", \"Topic2\", \"Topic2\", \"Topic2\", \"Topic2\", \"Topic2\", \"Topic2\", \"Topic2\", \"Topic2\", \"Topic2\", \"Topic2\", \"Topic2\", \"Topic2\", \"Topic2\", \"Topic2\", \"Topic2\", \"Topic2\", \"Topic2\", \"Topic2\", \"Topic2\", \"Topic2\", \"Topic2\", \"Topic2\", \"Topic2\", \"Topic2\", \"Topic2\", \"Topic2\", \"Topic2\"], \"Freq\": [2.0, 3.0, 22.0, 2.0, 2.0, 3.0, 18.0, 1.0, 1.0, 1.0, 3.0, 12.0, 0.0, 0.0, 0.0, 0.0, 0.0, 9.0, 1.0, 0.0, 0.0, 0.0, 0.0, 0.0, 0.0, 0.0, 7.0, 1.0, 7.0, 1.0, 22.73697853088379, 18.570600509643555, 12.274478912353516, 9.161563873291016, 7.071861743927002, 7.04764986038208, 6.000574111938477, 5.499948501586914, 6.497444152832031, 5.485709190368652, 4.4488959312438965, 4.448608875274658, 3.926619529724121, 3.9262802600860596, 3.403940439224243, 3.402519941329956, 3.3979599475860596, 2.879347801208496, 2.8783318996429443, 2.878000259399414, 2.877471685409546, 2.8718693256378174, 2.8640127182006836, 2.8474183082580566, 2.835937976837158, 2.355696201324463, 2.3555521965026855, 2.7939093112945557, 2.3056983947753906, 1.8310762643814087, 2.258453845977783, 2.016209602355957, 1.7731963396072388, 0.8152386546134949, 0.813628077507019, 0.813181459903717, 0.5928487181663513, 0.5928484797477722, 0.5898105502128601, 0.5742130875587463, 0.5686761736869812, 1.46963632106781, 0.3540482223033905, 0.352274626493454, 0.3522745668888092, 0.3497685492038727, 0.3496814966201782, 1.837734341621399, 0.3322716951370239, 0.32550743222236633, 1.4074976444244385, 0.3815610110759735, 0.11889014393091202, 0.11889014393091202, 0.11889014393091202, 0.11889014393091202, 0.11889014393091202, 0.11889014393091202, 0.11889014393091202, 0.11889014393091202, 0.11889014393091202, 0.8775876760482788, 0.31751593947410583, 0.11889014393091202, 0.11889014393091202, 0.11889014393091202, 0.11889014393091202, 0.11889014393091202, 0.11889014393091202, 0.11889014393091202, 0.11889014393091202, 0.33916717767715454, 0.11889014393091202, 0.22791290283203125, 0.11889014393091202, 0.11889014393091202, 0.11889014393091202, 0.15602800250053406, 0.11889014393091202, 0.11889014393091202, 0.11889014393091202, 0.15909259021282196, 0.13406260311603546, 0.1428123116493225, 0.1328527331352234, 0.14002424478530884, 0.14327052235603333, 0.14662761986255646], \"Term\": [\"Shall\", \"able\", \"going\", \"Fares\", \"Planning\", \"tried\", \"find\", \"replied\", \"quality\", \"number\", \"recommend\", \"soon\", \"still\", \"high\", \"notice\", \"show\", \"found\", \"confusing\", \"peak\", \"Damnit\", \"cannot\", \"though\", \"sure\", \"cheap\", \"reasonable\", \"forget\", \"15mins\", \"faster\", \"sign\", \"cancelled\", \"going\", \"find\", \"soon\", \"confusing\", \"15mins\", \"sign\", \"date\", \"hailing\", \"option\", \"code\", \"function\", \"success\", \"got\", \"take\", \"also\", \"inaccurate\", \"countless\", \"often\", \"\\u00f0\", \"even\", \"compared\", \"registered\", \"UX\", \"Please\", \"accepting\", \"driver\", \"long\", \"Seriously\", \"turn\", \"However\", \"recommend\", \"Shall\", \"Fares\", \"replied\", \"quality\", \"number\", \"still\", \"high\", \"notice\", \"show\", \"found\", \"Planning\", \"Damnit\", \"cannot\", \"though\", \"sure\", \"cheap\", \"able\", \"reasonable\", \"forget\", \"tried\", \"peak\", \"working\", \"Application\", \"Pls\", \"add\", \"try\", \"tamp\", \"quote\", \"chance\", \"bedok\", \"recommend\", \"faster\", \"rival\", \"account\", \"allow\", \"link\", \"version\", \"16\", \"rite\", \"FB\", \"cancelled\", \"card\", \"Tada\", \"Actual\", \"dropping\", \"create\", \"slightly\", \"double\", \"hitch\", \"arrival\", \"Seriously\", \"wait\", \"turn\", \"TADA\", \"accepting\", \"option\", \"going\"], \"Total\": [2.0, 3.0, 22.0, 2.0, 2.0, 3.0, 18.0, 1.0, 1.0, 1.0, 3.0, 12.0, 0.0, 0.0, 0.0, 0.0, 0.0, 9.0, 1.0, 0.0, 0.0, 0.0, 0.0, 0.0, 0.0, 0.0, 7.0, 1.0, 7.0, 1.0, 22.88360595703125, 18.705259323120117, 12.412306785583496, 9.285032272338867, 7.192300796508789, 7.179073810577393, 6.131493091583252, 5.620219707489014, 6.640714645385742, 5.612440586090088, 4.5704665184021, 4.570309162139893, 4.047365188598633, 4.047179698944092, 3.5240437984466553, 3.5232675075531006, 3.5207767486572266, 2.9996771812438965, 2.999122142791748, 2.998940944671631, 2.998652458190918, 2.995591640472412, 2.9912993907928467, 2.982234001159668, 2.9759621620178223, 2.4758245944976807, 2.4757461547851562, 2.9530019760131836, 2.4485106468200684, 1.9514429569244385, 3.1360416412353516, 2.28910756111145, 2.0576281547546387, 1.114738941192627, 1.116678237915039, 1.1172161102294922, 0.8584268093109131, 0.8584272265434265, 0.8620853424072266, 0.8808664083480835, 0.8875333666801453, 2.4231488704681396, 0.6218751072883606, 0.6240106821060181, 0.6240108013153076, 0.6270283460617065, 0.6271332502365112, 3.5522007942199707, 0.6480964422225952, 0.6562414765357971, 3.0220649242401123, 1.1128411293029785, 0.3809374272823334, 0.3809374272823334, 0.3809374272823334, 0.3809374272823334, 0.3809374272823334, 0.3809374272823334, 0.3809374272823334, 0.3809374272823334, 0.3809374272823334, 3.1360416412353516, 1.1899585723876953, 0.3809374272823334, 0.3809374272823334, 0.3809374272823334, 0.3809374272823334, 0.3809374272823334, 0.3809374272823334, 0.3809374272823334, 0.3809374272823334, 1.6879825592041016, 0.3809374272823334, 1.2978508472442627, 0.3809374272823334, 0.3809374272823334, 0.3809374272823334, 1.9085028171539307, 0.3809374272823334, 0.3809374272823334, 0.3809374272823334, 2.9530019760131836, 0.8867626190185547, 2.4485106468200684, 1.4123139381408691, 2.9759621620178223, 6.640714645385742, 22.88360595703125], \"loglift\": [30.0, 29.0, 28.0, 27.0, 26.0, 25.0, 24.0, 23.0, 22.0, 21.0, 20.0, 19.0, 18.0, 17.0, 16.0, 15.0, 14.0, 13.0, 12.0, 11.0, 10.0, 9.0, 8.0, 7.0, 6.0, 5.0, 4.0, 3.0, 2.0, 1.0, 0.21089999377727509, 0.210099995136261, 0.2062000036239624, 0.20389999449253082, 0.2003999948501587, 0.1988999992609024, 0.195700004696846, 0.195700004696846, 0.19550000131130219, 0.19449999928474426, 0.19040000438690186, 0.19030000269412994, 0.18700000643730164, 0.18700000643730164, 0.1826999932527542, 0.18250000476837158, 0.1817999929189682, 0.17640000581741333, 0.1762000024318695, 0.1762000024318695, 0.1761000007390976, 0.17520000040531158, 0.1738000065088272, 0.17110000550746918, 0.16910000145435333, 0.16760000586509705, 0.16760000586509705, 0.16189999878406525, 0.15719999372959137, 0.15369999408721924, -0.11100000143051147, 1.506100058555603, 1.4843000173568726, 1.320099949836731, 1.3164000511169434, 1.3154000043869019, 1.2628999948501587, 1.2628999948501587, 1.253499984741211, 1.2051000595092773, 1.1878999471664429, 1.1330000162124634, 1.069700002670288, 1.0613000392913818, 1.0613000392913818, 1.049299955368042, 1.0489000082015991, 0.9739999771118164, 0.9649999737739563, 0.9319000244140625, 0.8689000010490417, 0.5626000165939331, 0.46860000491142273, 0.46860000491142273, 0.46860000491142273, 0.46860000491142273, 0.46860000491142273, 0.46860000491142273, 0.46860000491142273, 0.46860000491142273, 0.46860000491142273, 0.359499990940094, 0.31189998984336853, 0.46860000491142273, 0.46860000491142273, 0.46860000491142273, 0.46860000491142273, 0.46860000491142273, 0.46860000491142273, 0.46860000491142273, 0.46860000491142273, 0.028200000524520874, 0.46860000491142273, -0.10649999976158142, 0.46860000491142273, 0.46860000491142273, 0.46860000491142273, -0.8709999918937683, 0.46860000491142273, 0.46860000491142273, 0.46860000491142273, -1.288100004196167, -0.25619998574256897, -1.2086999416351318, -0.7307000160217285, -1.4234999418258667, -2.203200101852417, -3.4172000885009766], \"logprob\": [30.0, 29.0, 28.0, 27.0, 26.0, 25.0, 24.0, 23.0, 22.0, 21.0, 20.0, 19.0, 18.0, 17.0, 16.0, 15.0, 14.0, 13.0, 12.0, 11.0, 10.0, 9.0, 8.0, 7.0, 6.0, 5.0, 4.0, 3.0, 2.0, 1.0, -2.8071000576019287, -3.0095999240875244, -3.4235999584198, -3.716099977493286, -3.9749999046325684, -3.9783999919891357, -4.1392998695373535, -4.226399898529053, -4.059700012207031, -4.229000091552734, -4.438499927520752, -4.438499927520752, -4.563399791717529, -4.563399791717529, -4.706200122833252, -4.706600189208984, -4.708000183105469, -4.873600006103516, -4.873899936676025, -4.874000072479248, -4.874199867248535, -4.876200199127197, -4.878900051116943, -4.884699821472168, -4.888800144195557, -5.0742998123168945, -5.074399948120117, -4.90369987487793, -5.095799922943115, -5.326200008392334, -5.116499900817871, -3.814199924468994, -3.9426000118255615, -4.719699859619141, -4.721700191497803, -4.7221999168396, -5.0381999015808105, -5.0381999015808105, -5.043399810791016, -5.070199966430664, -5.079899787902832, -4.13040018081665, -5.553800106048584, -5.558800220489502, -5.558800220489502, -5.565899848937988, -5.566199779510498, -3.906899929046631, -5.617199897766113, -5.637800216674805, -4.173600196838379, -5.478899955749512, -6.644999980926514, -6.644999980926514, -6.644999980926514, -6.644999980926514, -6.644999980926514, -6.644999980926514, -6.644999980926514, -6.644999980926514, -6.644999980926514, -4.645999908447266, -5.662700176239014, -6.644999980926514, -6.644999980926514, -6.644999980926514, -6.644999980926514, -6.644999980926514, -6.644999980926514, -6.644999980926514, -6.644999980926514, -5.596700191497803, -6.644999980926514, -5.994200229644775, -6.644999980926514, -6.644999980926514, -6.644999980926514, -6.373199939727783, -6.644999980926514, -6.644999980926514, -6.644999980926514, -6.353700160980225, -6.524899959564209, -6.461699962615967, -6.533899784088135, -6.481400012969971, -6.458499908447266, -6.435299873352051]}, \"token.table\": {\"Topic\": [1, 2, 1, 1, 2, 1, 1, 2, 1, 1, 1, 1, 2, 1, 1, 1, 1, 1, 1, 1, 1, 1, 1, 1, 1, 2, 1, 1, 1, 1, 2, 1, 1, 2, 2, 1, 1, 1, 2, 1, 2, 1, 2, 2, 1, 1, 1, 2, 1, 1, 1, 2, 1, 1, 1], \"Freq\": [0.9732629656791687, 0.9719929099082947, 1.0248826742172241, 0.41268616914749146, 0.41268616914749146, 1.0059572458267212, 1.0159153938293457, 0.8737029433250427, 0.7080578804016113, 0.7705045342445374, 1.0029085874557495, 0.5630312561988831, 0.5630312561988831, 1.0080773830413818, 0.851294755935669, 0.5924232006072998, 0.8908780217170715, 1.0004494190216064, 0.9693019390106201, 0.8520846962928772, 0.9785544872283936, 0.8078116774559021, 1.0003530979156494, 0.8403654098510742, 1.0157570838928223, 1.1267181634902954, 0.875184178352356, 1.0050863027572632, 0.9882972836494446, 0.8896449208259583, 1.1649211645126343, 0.8514823317527771, 0.8078372478485107, 1.159977912902832, 0.8950819969177246, 1.0001076459884644, 0.9035171866416931, 0.8986008763313293, 0.895513117313385, 0.6377466320991516, 0.3188733160495758, 1.0014716386795044, 0.8970710039138794, 1.1352459192276, 0.9750561118125916, 1.0479419231414795, 0.9667823910713196, 1.1649216413497925, 0.8752143383026123, 0.9883425831794739, 0.6617991328239441, 0.33089956641197205, 0.8168230652809143, 1.127697467803955, 1.0002926588058472], \"Term\": [\"15mins\", \"Fares\", \"However\", \"Planning\", \"Planning\", \"Please\", \"Seriously\", \"Shall\", \"TADA\", \"Tada\", \"UX\", \"able\", \"able\", \"accepting\", \"also\", \"cancelled\", \"code\", \"compared\", \"confusing\", \"countless\", \"date\", \"driver\", \"even\", \"faster\", \"find\", \"found\", \"function\", \"going\", \"got\", \"hailing\", \"high\", \"inaccurate\", \"long\", \"notice\", \"number\", \"often\", \"option\", \"peak\", \"quality\", \"recommend\", \"recommend\", \"registered\", \"replied\", \"show\", \"sign\", \"slightly\", \"soon\", \"still\", \"success\", \"take\", \"tried\", \"tried\", \"turn\", \"wait\", \"\\u00f0\"]}, \"R\": 30, \"lambda.step\": 0.01, \"plot.opts\": {\"xlab\": \"PC1\", \"ylab\": \"PC2\"}, \"topic.order\": [2, 1]};\n",
       "\n",
       "function LDAvis_load_lib(url, callback){\n",
       "  var s = document.createElement('script');\n",
       "  s.src = url;\n",
       "  s.async = true;\n",
       "  s.onreadystatechange = s.onload = callback;\n",
       "  s.onerror = function(){console.warn(\"failed to load library \" + url);};\n",
       "  document.getElementsByTagName(\"head\")[0].appendChild(s);\n",
       "}\n",
       "\n",
       "if(typeof(LDAvis) !== \"undefined\"){\n",
       "   // already loaded: just create the visualization\n",
       "   !function(LDAvis){\n",
       "       new LDAvis(\"#\" + \"ldavis_el2023665890450040817784679\", ldavis_el2023665890450040817784679_data);\n",
       "   }(LDAvis);\n",
       "}else if(typeof define === \"function\" && define.amd){\n",
       "   // require.js is available: use it to load d3/LDAvis\n",
       "   require.config({paths: {d3: \"https://cdnjs.cloudflare.com/ajax/libs/d3/3.5.5/d3.min\"}});\n",
       "   require([\"d3\"], function(d3){\n",
       "      window.d3 = d3;\n",
       "      LDAvis_load_lib(\"https://cdn.rawgit.com/bmabey/pyLDAvis/files/ldavis.v1.0.0.js\", function(){\n",
       "        new LDAvis(\"#\" + \"ldavis_el2023665890450040817784679\", ldavis_el2023665890450040817784679_data);\n",
       "      });\n",
       "    });\n",
       "}else{\n",
       "    // require.js not available: dynamically load d3 & LDAvis\n",
       "    LDAvis_load_lib(\"https://cdnjs.cloudflare.com/ajax/libs/d3/3.5.5/d3.min.js\", function(){\n",
       "         LDAvis_load_lib(\"https://cdn.rawgit.com/bmabey/pyLDAvis/files/ldavis.v1.0.0.js\", function(){\n",
       "                 new LDAvis(\"#\" + \"ldavis_el2023665890450040817784679\", ldavis_el2023665890450040817784679_data);\n",
       "            })\n",
       "         });\n",
       "}\n",
       "</script>"
      ],
      "text/plain": [
       "PreparedData(topic_coordinates=              x    y  topics  cluster       Freq\n",
       "topic                                           \n",
       "1      0.082753  0.0       1        1  80.466454\n",
       "0     -0.082753  0.0       2        1  19.533545, topic_info=     Category       Freq        Term      Total  loglift  logprob\n",
       "term                                                             \n",
       "99    Default   2.000000       Shall   2.000000  30.0000  30.0000\n",
       "202   Default   3.000000        able   3.000000  29.0000  29.0000\n",
       "3     Default  22.000000       going  22.000000  28.0000  28.0000\n",
       "218   Default   2.000000       Fares   2.000000  27.0000  27.0000\n",
       "39    Default   2.000000    Planning   2.000000  26.0000  26.0000\n",
       "154   Default   3.000000       tried   3.000000  25.0000  25.0000\n",
       "8     Default  18.000000        find  18.000000  24.0000  24.0000\n",
       "173   Default   1.000000     replied   1.000000  23.0000  23.0000\n",
       "22    Default   1.000000     quality   1.000000  22.0000  22.0000\n",
       "33    Default   1.000000      number   1.000000  21.0000  21.0000\n",
       "97    Default   3.000000   recommend   3.000000  20.0000  20.0000\n",
       "44    Default  12.000000        soon  12.000000  19.0000  19.0000\n",
       "11    Default   0.000000       still   0.000000  18.0000  18.0000\n",
       "43    Default   0.000000        high   0.000000  17.0000  17.0000\n",
       "96    Default   0.000000      notice   0.000000  16.0000  16.0000\n",
       "53    Default   0.000000        show   0.000000  15.0000  15.0000\n",
       "2     Default   0.000000       found   0.000000  14.0000  14.0000\n",
       "56    Default   9.000000   confusing   9.000000  13.0000  13.0000\n",
       "112   Default   1.000000        peak   1.000000  12.0000  12.0000\n",
       "158   Default   0.000000      Damnit   0.000000  11.0000  11.0000\n",
       "7     Default   0.000000      cannot   0.000000  10.0000  10.0000\n",
       "215   Default   0.000000      though   0.000000   9.0000   9.0000\n",
       "227   Default   0.000000        sure   0.000000   8.0000   8.0000\n",
       "87    Default   0.000000       cheap   0.000000   7.0000   7.0000\n",
       "194   Default   0.000000  reasonable   0.000000   6.0000   6.0000\n",
       "20    Default   0.000000      forget   0.000000   5.0000   5.0000\n",
       "143   Default   7.000000      15mins   7.000000   4.0000   4.0000\n",
       "89    Default   1.000000      faster   1.000000   3.0000   3.0000\n",
       "35    Default   7.000000        sign   7.000000   2.0000   2.0000\n",
       "94    Default   1.000000   cancelled   1.000000   1.0000   1.0000\n",
       "...       ...        ...         ...        ...      ...      ...\n",
       "275    Topic2   0.118890       quote   0.380937   0.4686  -6.6450\n",
       "274    Topic2   0.118890      chance   0.380937   0.4686  -6.6450\n",
       "273    Topic2   0.118890       bedok   0.380937   0.4686  -6.6450\n",
       "97     Topic2   0.877588   recommend   3.136042   0.3595  -4.6460\n",
       "89     Topic2   0.317516      faster   1.189959   0.3119  -5.6627\n",
       "347    Topic2   0.118890       rival   0.380937   0.4686  -6.6450\n",
       "268    Topic2   0.118890     account   0.380937   0.4686  -6.6450\n",
       "269    Topic2   0.118890       allow   0.380937   0.4686  -6.6450\n",
       "270    Topic2   0.118890        link   0.380937   0.4686  -6.6450\n",
       "356    Topic2   0.118890     version   0.380937   0.4686  -6.6450\n",
       "271    Topic2   0.118890          16   0.380937   0.4686  -6.6450\n",
       "346    Topic2   0.118890        rite   0.380937   0.4686  -6.6450\n",
       "267    Topic2   0.118890          FB   0.380937   0.4686  -6.6450\n",
       "94     Topic2   0.339167   cancelled   1.687983   0.0282  -5.5967\n",
       "279    Topic2   0.118890        card   0.380937   0.4686  -6.6450\n",
       "134    Topic2   0.227913        Tada   1.297851  -0.1065  -5.9942\n",
       "290    Topic2   0.118890      Actual   0.380937   0.4686  -6.6450\n",
       "293    Topic2   0.118890    dropping   0.380937   0.4686  -6.6450\n",
       "284    Topic2   0.118890      create   0.380937   0.4686  -6.6450\n",
       "179    Topic2   0.156028    slightly   1.908503  -0.8710  -6.3732\n",
       "292    Topic2   0.118890      double   0.380937   0.4686  -6.6450\n",
       "285    Topic2   0.118890       hitch   0.380937   0.4686  -6.6450\n",
       "291    Topic2   0.118890     arrival   0.380937   0.4686  -6.6450\n",
       "175    Topic2   0.159093   Seriously   2.953002  -1.2881  -6.3537\n",
       "24     Topic2   0.134063        wait   0.886763  -0.2562  -6.5249\n",
       "141    Topic2   0.142812        turn   2.448511  -1.2087  -6.4617\n",
       "54     Topic2   0.132853        TADA   1.412314  -0.7307  -6.5339\n",
       "16     Topic2   0.140024   accepting   2.975962  -1.4235  -6.4814\n",
       "34     Topic2   0.143271      option   6.640715  -2.2032  -6.4585\n",
       "3      Topic2   0.146628       going  22.883606  -3.4172  -6.4353\n",
       "\n",
       "[118 rows x 6 columns], token_table=      Topic      Freq        Term\n",
       "term                             \n",
       "143       1  0.973263      15mins\n",
       "218       2  0.971993       Fares\n",
       "183       1  1.024883     However\n",
       "39        1  0.412686    Planning\n",
       "39        2  0.412686    Planning\n",
       "236       1  1.005957      Please\n",
       "175       1  1.015915   Seriously\n",
       "99        2  0.873703       Shall\n",
       "54        1  0.708058        TADA\n",
       "134       1  0.770505        Tada\n",
       "201       1  1.002909          UX\n",
       "202       1  0.563031        able\n",
       "202       2  0.563031        able\n",
       "16        1  1.008077   accepting\n",
       "86        1  0.851295        also\n",
       "94        1  0.592423   cancelled\n",
       "91        1  0.890878        code\n",
       "88        1  1.000449    compared\n",
       "56        1  0.969302   confusing\n",
       "146       1  0.852085   countless\n",
       "147       1  0.978554        date\n",
       "1         1  0.807812      driver\n",
       "81        1  1.000353        even\n",
       "89        1  0.840365      faster\n",
       "8         1  1.015757        find\n",
       "2         2  1.126718       found\n",
       "159       1  0.875184    function\n",
       "3         1  1.005086       going\n",
       "160       1  0.988297         got\n",
       "76        1  0.889645     hailing\n",
       "43        2  1.164921        high\n",
       "50        1  0.851482  inaccurate\n",
       "137       1  0.807837        long\n",
       "96        2  1.159978      notice\n",
       "33        2  0.895082      number\n",
       "210       1  1.000108       often\n",
       "34        1  0.903517      option\n",
       "112       1  0.898601        peak\n",
       "22        2  0.895513     quality\n",
       "97        1  0.637747   recommend\n",
       "97        2  0.318873   recommend\n",
       "71        1  1.001472  registered\n",
       "173       2  0.897071     replied\n",
       "53        2  1.135246        show\n",
       "35        1  0.975056        sign\n",
       "179       1  1.047942    slightly\n",
       "44        1  0.966782        soon\n",
       "11        2  1.164922       still\n",
       "153       1  0.875214     success\n",
       "213       1  0.988343        take\n",
       "154       1  0.661799       tried\n",
       "154       2  0.330900       tried\n",
       "141       1  0.816823        turn\n",
       "24        1  1.127697        wait\n",
       "133       1  1.000293           ð, R=30, lambda_step=0.01, plot_opts={'xlab': 'PC1', 'ylab': 'PC2'}, topic_order=[2, 1])"
      ]
     },
     "execution_count": 43,
     "metadata": {},
     "output_type": "execute_result"
    }
   ],
   "source": [
    "pyLDAvis.gensim.prepare(ldamodel, doc_term_matrix, pos_dict)"
   ]
  },
  {
   "cell_type": "code",
   "execution_count": null,
   "metadata": {},
   "outputs": [],
   "source": []
  }
 ],
 "metadata": {
  "kernelspec": {
   "display_name": "Python 3",
   "language": "python",
   "name": "python3"
  },
  "language_info": {
   "codemirror_mode": {
    "name": "ipython",
    "version": 3
   },
   "file_extension": ".py",
   "mimetype": "text/x-python",
   "name": "python",
   "nbconvert_exporter": "python",
   "pygments_lexer": "ipython3",
   "version": "3.6.5"
  }
 },
 "nbformat": 4,
 "nbformat_minor": 2
}
